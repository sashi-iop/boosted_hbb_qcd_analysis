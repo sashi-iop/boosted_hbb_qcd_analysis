{
 "cells": [
  {
   "cell_type": "markdown",
   "id": "5029cca0-2a46-4b03-9e86-81fa4b6361ef",
   "metadata": {
    "jp-MarkdownHeadingCollapsed": true
   },
   "source": [
    "# Adversarial Neural Network for Decorrelated Jet Classification\n",
    "\n",
    "This section introduces an Adversarial Neural Network (ANN) architecture designed to perform jet classification while reducing correlation with jet mass and transverse momentum (p<sub>T</sub>). The approach aims to preserve classification performance while mitigating biases that can lead to sculpted backgrounds in physical observables.\n",
    "\n",
    "The network includes:\n",
    "\n",
    "A classifier (discriminator) trained to distinguish QCD from Higgs jets.\n",
    "\n",
    "A regressor (adversary) trained to predict jet mass and p<sub>T</sub>.\n",
    "\n",
    "During joint training, the adversary's loss is negatively weighted, encouraging the classifier to learn features that are independent of mass and p<sub>T</sub>.\n",
    "\n",
    "The model is pretrained in two stages (classifier and adversary) before adversarial training begins. All jets are selected within:\n",
    "\n",
    "Mass window: 40 GeV < M<sub>sd</sub> < 200 GeV\n",
    "\n",
    "p<sub>T</sub> range: 300 GeV < p<sub>T</sub> < 2000 GeV\n",
    "\n",
    "Performance is assessed using the ROC curve and AUC metric, with special attention paid to how well the classifier resists overfitting to kinematic variables."
   ]
  },
  {
   "cell_type": "code",
   "execution_count": 1,
   "id": "8dd6323a-58b0-46d0-a3e3-04e999225a26",
   "metadata": {},
   "outputs": [
    {
     "name": "stderr",
     "output_type": "stream",
     "text": [
      "2025-07-08 07:41:59.028957: I tensorflow/core/util/port.cc:153] oneDNN custom operations are on. You may see slightly different numerical results due to floating-point round-off errors from different computation orders. To turn them off, set the environment variable `TF_ENABLE_ONEDNN_OPTS=0`.\n",
      "2025-07-08 07:41:59.037328: E external/local_xla/xla/stream_executor/cuda/cuda_fft.cc:467] Unable to register cuFFT factory: Attempting to register factory for plugin cuFFT when one has already been registered\n",
      "WARNING: All log messages before absl::InitializeLog() is called are written to STDERR\n",
      "E0000 00:00:1751960519.045475   51037 cuda_dnn.cc:8579] Unable to register cuDNN factory: Attempting to register factory for plugin cuDNN when one has already been registered\n",
      "E0000 00:00:1751960519.047949   51037 cuda_blas.cc:1407] Unable to register cuBLAS factory: Attempting to register factory for plugin cuBLAS when one has already been registered\n",
      "W0000 00:00:1751960519.054794   51037 computation_placer.cc:177] computation placer already registered. Please check linkage and avoid linking the same target more than once.\n",
      "W0000 00:00:1751960519.054802   51037 computation_placer.cc:177] computation placer already registered. Please check linkage and avoid linking the same target more than once.\n",
      "W0000 00:00:1751960519.054803   51037 computation_placer.cc:177] computation placer already registered. Please check linkage and avoid linking the same target more than once.\n",
      "W0000 00:00:1751960519.054804   51037 computation_placer.cc:177] computation placer already registered. Please check linkage and avoid linking the same target more than once.\n",
      "2025-07-08 07:41:59.057198: I tensorflow/core/platform/cpu_feature_guard.cc:210] This TensorFlow binary is optimized to use available CPU instructions in performance-critical operations.\n",
      "To enable the following instructions: AVX2 AVX_VNNI FMA, in other operations, rebuild TensorFlow with the appropriate compiler flags.\n"
     ]
    }
   ],
   "source": [
    "# ================================\n",
    "# Core Libraries\n",
    "# ================================\n",
    "import numpy as np                      # Numerical operations\n",
    "import yaml                             # Reading YAML configuration files\n",
    "\n",
    "# ================================\n",
    "# ROOT File Handling\n",
    "# ================================\n",
    "import uproot                           # Reading ROOT files in Python (no need for ROOT C++)\n",
    "import fsspec_xrootd                    # Enables uproot to read files over XRootD (e.g., from EOS)\n",
    "\n",
    "# ================================\n",
    "# Custom Utilities\n",
    "# ================================\n",
    "from utilities.deepset_adversarial_datagenerator import DataGenerator  # Custom data generator for DeepSet with adversarial training\n",
    "\n",
    "# ================================\n",
    "# Plotting and Visualization\n",
    "# ================================\n",
    "import matplotlib.pyplot as plt         # Standard plotting library\n",
    "import mplhep as hep                    # High Energy Physics (HEP) style plotting (CMS, ATLAS, etc.)\n",
    "plt.style.use(hep.style.ROOT)           # Use ROOT-style for consistency with HEP plots\n",
    "\n",
    "# ================================\n",
    "# TensorFlow / Keras for Deep Learning\n",
    "# ================================\n",
    "import tensorflow as tf\n",
    "import tensorflow.keras as keras\n",
    "\n",
    "# Keras Functional API for defining models\n",
    "from tensorflow.keras.models import Model, load_model\n",
    "from tensorflow.keras.layers import (\n",
    "    Input, Dense, BatchNormalization, \n",
    "    GlobalAveragePooling1D, Dropout, Flatten\n",
    ")\n",
    "\n",
    "# Keras Callbacks for better training control\n",
    "from tensorflow.keras.callbacks import (\n",
    "    EarlyStopping, ModelCheckpoint, ReduceLROnPlateau\n",
    ")\n",
    "\n",
    "# Backend utilities (for advanced loss functions, etc.)\n",
    "import tensorflow.keras.backend as K\n",
    "\n",
    "# ================================\n",
    "# Evaluation Metrics\n",
    "# ================================\n",
    "from sklearn.metrics import roc_curve, auc  # For ROC curve and AUC score calculation\n"
   ]
  },
  {
   "cell_type": "code",
   "execution_count": 2,
   "id": "5efdbcb1-7370-447c-9002-ad84e6be9540",
   "metadata": {},
   "outputs": [
    {
     "name": "stdout",
     "output_type": "stream",
     "text": [
      "Running on: [PhysicalDevice(name='/physical_device:CPU:0', device_type='CPU')]\n"
     ]
    },
    {
     "name": "stderr",
     "output_type": "stream",
     "text": [
      "2025-07-08 07:42:04.325861: E external/local_xla/xla/stream_executor/cuda/cuda_platform.cc:51] failed call to cuInit: INTERNAL: CUDA error: Failed call to cuInit: CUDA_ERROR_NO_DEVICE: no CUDA-capable device is detected\n"
     ]
    }
   ],
   "source": [
    "import os\n",
    "os.environ[\"CUDA_VISIBLE_DEVICES\"] = \"-1\"\n",
    "\n",
    "import tensorflow as tf\n",
    "print(\"Running on:\", tf.config.list_physical_devices())"
   ]
  },
  {
   "cell_type": "code",
   "execution_count": 3,
   "id": "0503aa2f-a867-4ba1-8bc3-3deab647b1f3",
   "metadata": {},
   "outputs": [],
   "source": [
    "with open('./utilities/definitions_gnn_deepset_adversarial.yml', 'r') as file:\n",
    "    definitions = yaml.load(file, Loader = yaml.FullLoader)\n",
    "\n",
    "features = definitions['features']\n",
    "spectators = definitions['spectators']\n",
    "labels = definitions['labels']\n",
    "\n",
    "nfeatures = definitions['nfeatures']\n",
    "nspectators = definitions['nspectators']\n",
    "nlabels = definitions['nlabels']\n",
    "ntracks = definitions['ntracks']"
   ]
  },
  {
   "cell_type": "code",
   "execution_count": 4,
   "id": "4b00022f-749a-4393-ab4d-76ca1731eeb2",
   "metadata": {},
   "outputs": [],
   "source": [
    "# ========================================\n",
    "# File paths for training, validation, and testing datasets\n",
    "# ========================================\n",
    "train_files = ['/home/sashi/predoc project/project/ntuple_merged_10.root']\n",
    "val_files   = ['/home/sashi/predoc project/project/ntuple_merged_11.root']\n",
    "test_files  = ['/home/sashi/predoc project/project/ntuple_merged_0.root']\n",
    "\n",
    "# Batch size used for all datasets\n",
    "batch_size = 1024\n",
    "\n",
    "# ========================================\n",
    "# Training Data Generator\n",
    "# ========================================\n",
    "train_generator = DataGenerator(\n",
    "    train_files,             # List of ROOT files for training\n",
    "    features,                # Input feature list (from YAML)\n",
    "    labels,                  # Output label list (from YAML)\n",
    "    spectators,              # Spectator variables (e.g., mass, pt)\n",
    "    batch_size=batch_size,   # Number of events per batch\n",
    "    n_dim=ntracks,           # Max number of tracks per jet\n",
    "    remove_mass_pt_window=True,     # Apply mass/pT filtering [40 < mass < 200, 300 < pt < 2000]\n",
    "    remove_unlabeled=True,          # Remove samples without clear label (signal or background)\n",
    "    return_spectators=True,         # Also return spectator variables in the output\n",
    "    max_entry=5000,                 # Max events to read per file\n",
    "    scale_mass_pt=[100.0, 10000.0]  # Normalization factors for mass and pt\n",
    ")\n",
    "\n",
    "# ========================================\n",
    "# Validation Data Generator\n",
    "# ========================================\n",
    "val_generator = DataGenerator(\n",
    "    val_files,\n",
    "    features,\n",
    "    labels,\n",
    "    spectators,\n",
    "    batch_size=batch_size,\n",
    "    n_dim=ntracks,\n",
    "    remove_mass_pt_window=True,\n",
    "    remove_unlabeled=True,\n",
    "    return_spectators=True,\n",
    "    max_entry=2000,\n",
    "    scale_mass_pt=[100.0, 10000.0]\n",
    ")\n",
    "\n",
    "# ========================================\n",
    "# Test Data Generator\n",
    "# ========================================\n",
    "test_generator = DataGenerator(\n",
    "    test_files,\n",
    "    features,\n",
    "    labels,\n",
    "    spectators,\n",
    "    batch_size=batch_size,\n",
    "    n_dim=ntracks,\n",
    "    remove_mass_pt_window=True,\n",
    "    remove_unlabeled=True,\n",
    "    return_spectators=True,\n",
    "    max_entry=4000,\n",
    "    # Note: scale_mass_pt is omitted here; will default to [1, 1] unless handled inside DataGenerator\n",
    ")"
   ]
  },
  {
   "cell_type": "code",
   "execution_count": 5,
   "id": "5ba5877b-4099-402f-b48b-874ab27462ea",
   "metadata": {},
   "outputs": [
    {
     "data": {
      "text/html": [
       "<pre style=\"white-space:pre;overflow-x:auto;line-height:normal;font-family:Menlo,'DejaVu Sans Mono',consolas,'Courier New',monospace\"><span style=\"font-weight: bold\">Model: \"functional\"</span>\n",
       "</pre>\n"
      ],
      "text/plain": [
       "\u001b[1mModel: \"functional\"\u001b[0m\n"
      ]
     },
     "metadata": {},
     "output_type": "display_data"
    },
    {
     "data": {
      "text/html": [
       "<pre style=\"white-space:pre;overflow-x:auto;line-height:normal;font-family:Menlo,'DejaVu Sans Mono',consolas,'Courier New',monospace\">┏━━━━━━━━━━━━━━━━━━━━━━━━━━━━━━━━━┳━━━━━━━━━━━━━━━━━━━━━━━━┳━━━━━━━━━━━━━━━┓\n",
       "┃<span style=\"font-weight: bold\"> Layer (type)                    </span>┃<span style=\"font-weight: bold\"> Output Shape           </span>┃<span style=\"font-weight: bold\">       Param # </span>┃\n",
       "┡━━━━━━━━━━━━━━━━━━━━━━━━━━━━━━━━━╇━━━━━━━━━━━━━━━━━━━━━━━━╇━━━━━━━━━━━━━━━┩\n",
       "│ input (<span style=\"color: #0087ff; text-decoration-color: #0087ff\">InputLayer</span>)              │ (<span style=\"color: #00d7ff; text-decoration-color: #00d7ff\">None</span>, <span style=\"color: #00af00; text-decoration-color: #00af00\">60</span>, <span style=\"color: #00af00; text-decoration-color: #00af00\">74</span>)         │             <span style=\"color: #00af00; text-decoration-color: #00af00\">0</span> │\n",
       "├─────────────────────────────────┼────────────────────────┼───────────────┤\n",
       "│ bn1 (<span style=\"color: #0087ff; text-decoration-color: #0087ff\">BatchNormalization</span>)        │ (<span style=\"color: #00d7ff; text-decoration-color: #00d7ff\">None</span>, <span style=\"color: #00af00; text-decoration-color: #00af00\">60</span>, <span style=\"color: #00af00; text-decoration-color: #00af00\">74</span>)         │           <span style=\"color: #00af00; text-decoration-color: #00af00\">296</span> │\n",
       "├─────────────────────────────────┼────────────────────────┼───────────────┤\n",
       "│ dense_1 (<span style=\"color: #0087ff; text-decoration-color: #0087ff\">Dense</span>)                 │ (<span style=\"color: #00d7ff; text-decoration-color: #00d7ff\">None</span>, <span style=\"color: #00af00; text-decoration-color: #00af00\">60</span>, <span style=\"color: #00af00; text-decoration-color: #00af00\">64</span>)         │         <span style=\"color: #00af00; text-decoration-color: #00af00\">4,800</span> │\n",
       "├─────────────────────────────────┼────────────────────────┼───────────────┤\n",
       "│ dense_2 (<span style=\"color: #0087ff; text-decoration-color: #0087ff\">Dense</span>)                 │ (<span style=\"color: #00d7ff; text-decoration-color: #00d7ff\">None</span>, <span style=\"color: #00af00; text-decoration-color: #00af00\">60</span>, <span style=\"color: #00af00; text-decoration-color: #00af00\">32</span>)         │         <span style=\"color: #00af00; text-decoration-color: #00af00\">2,080</span> │\n",
       "├─────────────────────────────────┼────────────────────────┼───────────────┤\n",
       "│ dense_3 (<span style=\"color: #0087ff; text-decoration-color: #0087ff\">Dense</span>)                 │ (<span style=\"color: #00d7ff; text-decoration-color: #00d7ff\">None</span>, <span style=\"color: #00af00; text-decoration-color: #00af00\">60</span>, <span style=\"color: #00af00; text-decoration-color: #00af00\">32</span>)         │         <span style=\"color: #00af00; text-decoration-color: #00af00\">1,056</span> │\n",
       "├─────────────────────────────────┼────────────────────────┼───────────────┤\n",
       "│ pool_1 (<span style=\"color: #0087ff; text-decoration-color: #0087ff\">GlobalAveragePooling1D</span>) │ (<span style=\"color: #00d7ff; text-decoration-color: #00d7ff\">None</span>, <span style=\"color: #00af00; text-decoration-color: #00af00\">32</span>)             │             <span style=\"color: #00af00; text-decoration-color: #00af00\">0</span> │\n",
       "├─────────────────────────────────┼────────────────────────┼───────────────┤\n",
       "│ dense_4 (<span style=\"color: #0087ff; text-decoration-color: #0087ff\">Dense</span>)                 │ (<span style=\"color: #00d7ff; text-decoration-color: #00d7ff\">None</span>, <span style=\"color: #00af00; text-decoration-color: #00af00\">100</span>)            │         <span style=\"color: #00af00; text-decoration-color: #00af00\">3,300</span> │\n",
       "├─────────────────────────────────┼────────────────────────┼───────────────┤\n",
       "│ output (<span style=\"color: #0087ff; text-decoration-color: #0087ff\">Dense</span>)                  │ (<span style=\"color: #00d7ff; text-decoration-color: #00d7ff\">None</span>, <span style=\"color: #00af00; text-decoration-color: #00af00\">2</span>)              │           <span style=\"color: #00af00; text-decoration-color: #00af00\">202</span> │\n",
       "└─────────────────────────────────┴────────────────────────┴───────────────┘\n",
       "</pre>\n"
      ],
      "text/plain": [
       "┏━━━━━━━━━━━━━━━━━━━━━━━━━━━━━━━━━┳━━━━━━━━━━━━━━━━━━━━━━━━┳━━━━━━━━━━━━━━━┓\n",
       "┃\u001b[1m \u001b[0m\u001b[1mLayer (type)                   \u001b[0m\u001b[1m \u001b[0m┃\u001b[1m \u001b[0m\u001b[1mOutput Shape          \u001b[0m\u001b[1m \u001b[0m┃\u001b[1m \u001b[0m\u001b[1m      Param #\u001b[0m\u001b[1m \u001b[0m┃\n",
       "┡━━━━━━━━━━━━━━━━━━━━━━━━━━━━━━━━━╇━━━━━━━━━━━━━━━━━━━━━━━━╇━━━━━━━━━━━━━━━┩\n",
       "│ input (\u001b[38;5;33mInputLayer\u001b[0m)              │ (\u001b[38;5;45mNone\u001b[0m, \u001b[38;5;34m60\u001b[0m, \u001b[38;5;34m74\u001b[0m)         │             \u001b[38;5;34m0\u001b[0m │\n",
       "├─────────────────────────────────┼────────────────────────┼───────────────┤\n",
       "│ bn1 (\u001b[38;5;33mBatchNormalization\u001b[0m)        │ (\u001b[38;5;45mNone\u001b[0m, \u001b[38;5;34m60\u001b[0m, \u001b[38;5;34m74\u001b[0m)         │           \u001b[38;5;34m296\u001b[0m │\n",
       "├─────────────────────────────────┼────────────────────────┼───────────────┤\n",
       "│ dense_1 (\u001b[38;5;33mDense\u001b[0m)                 │ (\u001b[38;5;45mNone\u001b[0m, \u001b[38;5;34m60\u001b[0m, \u001b[38;5;34m64\u001b[0m)         │         \u001b[38;5;34m4,800\u001b[0m │\n",
       "├─────────────────────────────────┼────────────────────────┼───────────────┤\n",
       "│ dense_2 (\u001b[38;5;33mDense\u001b[0m)                 │ (\u001b[38;5;45mNone\u001b[0m, \u001b[38;5;34m60\u001b[0m, \u001b[38;5;34m32\u001b[0m)         │         \u001b[38;5;34m2,080\u001b[0m │\n",
       "├─────────────────────────────────┼────────────────────────┼───────────────┤\n",
       "│ dense_3 (\u001b[38;5;33mDense\u001b[0m)                 │ (\u001b[38;5;45mNone\u001b[0m, \u001b[38;5;34m60\u001b[0m, \u001b[38;5;34m32\u001b[0m)         │         \u001b[38;5;34m1,056\u001b[0m │\n",
       "├─────────────────────────────────┼────────────────────────┼───────────────┤\n",
       "│ pool_1 (\u001b[38;5;33mGlobalAveragePooling1D\u001b[0m) │ (\u001b[38;5;45mNone\u001b[0m, \u001b[38;5;34m32\u001b[0m)             │             \u001b[38;5;34m0\u001b[0m │\n",
       "├─────────────────────────────────┼────────────────────────┼───────────────┤\n",
       "│ dense_4 (\u001b[38;5;33mDense\u001b[0m)                 │ (\u001b[38;5;45mNone\u001b[0m, \u001b[38;5;34m100\u001b[0m)            │         \u001b[38;5;34m3,300\u001b[0m │\n",
       "├─────────────────────────────────┼────────────────────────┼───────────────┤\n",
       "│ output (\u001b[38;5;33mDense\u001b[0m)                  │ (\u001b[38;5;45mNone\u001b[0m, \u001b[38;5;34m2\u001b[0m)              │           \u001b[38;5;34m202\u001b[0m │\n",
       "└─────────────────────────────────┴────────────────────────┴───────────────┘\n"
      ]
     },
     "metadata": {},
     "output_type": "display_data"
    },
    {
     "data": {
      "text/html": [
       "<pre style=\"white-space:pre;overflow-x:auto;line-height:normal;font-family:Menlo,'DejaVu Sans Mono',consolas,'Courier New',monospace\"><span style=\"font-weight: bold\"> Total params: </span><span style=\"color: #00af00; text-decoration-color: #00af00\">11,734</span> (45.84 KB)\n",
       "</pre>\n"
      ],
      "text/plain": [
       "\u001b[1m Total params: \u001b[0m\u001b[38;5;34m11,734\u001b[0m (45.84 KB)\n"
      ]
     },
     "metadata": {},
     "output_type": "display_data"
    },
    {
     "data": {
      "text/html": [
       "<pre style=\"white-space:pre;overflow-x:auto;line-height:normal;font-family:Menlo,'DejaVu Sans Mono',consolas,'Courier New',monospace\"><span style=\"font-weight: bold\"> Trainable params: </span><span style=\"color: #00af00; text-decoration-color: #00af00\">11,586</span> (45.26 KB)\n",
       "</pre>\n"
      ],
      "text/plain": [
       "\u001b[1m Trainable params: \u001b[0m\u001b[38;5;34m11,586\u001b[0m (45.26 KB)\n"
      ]
     },
     "metadata": {},
     "output_type": "display_data"
    },
    {
     "data": {
      "text/html": [
       "<pre style=\"white-space:pre;overflow-x:auto;line-height:normal;font-family:Menlo,'DejaVu Sans Mono',consolas,'Courier New',monospace\"><span style=\"font-weight: bold\"> Non-trainable params: </span><span style=\"color: #00af00; text-decoration-color: #00af00\">148</span> (592.00 B)\n",
       "</pre>\n"
      ],
      "text/plain": [
       "\u001b[1m Non-trainable params: \u001b[0m\u001b[38;5;34m148\u001b[0m (592.00 B)\n"
      ]
     },
     "metadata": {},
     "output_type": "display_data"
    },
    {
     "data": {
      "text/html": [
       "<pre style=\"white-space:pre;overflow-x:auto;line-height:normal;font-family:Menlo,'DejaVu Sans Mono',consolas,'Courier New',monospace\"><span style=\"font-weight: bold\">Model: \"functional_1\"</span>\n",
       "</pre>\n"
      ],
      "text/plain": [
       "\u001b[1mModel: \"functional_1\"\u001b[0m\n"
      ]
     },
     "metadata": {},
     "output_type": "display_data"
    },
    {
     "data": {
      "text/html": [
       "<pre style=\"white-space:pre;overflow-x:auto;line-height:normal;font-family:Menlo,'DejaVu Sans Mono',consolas,'Courier New',monospace\">┏━━━━━━━━━━━━━━━━━━━━━━━━━━━━━━━━━┳━━━━━━━━━━━━━━━━━━━━━━━━┳━━━━━━━━━━━━━━━┓\n",
       "┃<span style=\"font-weight: bold\"> Layer (type)                    </span>┃<span style=\"font-weight: bold\"> Output Shape           </span>┃<span style=\"font-weight: bold\">       Param # </span>┃\n",
       "┡━━━━━━━━━━━━━━━━━━━━━━━━━━━━━━━━━╇━━━━━━━━━━━━━━━━━━━━━━━━╇━━━━━━━━━━━━━━━┩\n",
       "│ input (<span style=\"color: #0087ff; text-decoration-color: #0087ff\">InputLayer</span>)              │ (<span style=\"color: #00d7ff; text-decoration-color: #00d7ff\">None</span>, <span style=\"color: #00af00; text-decoration-color: #00af00\">60</span>, <span style=\"color: #00af00; text-decoration-color: #00af00\">74</span>)         │             <span style=\"color: #00af00; text-decoration-color: #00af00\">0</span> │\n",
       "├─────────────────────────────────┼────────────────────────┼───────────────┤\n",
       "│ functional (<span style=\"color: #0087ff; text-decoration-color: #0087ff\">Functional</span>)         │ (<span style=\"color: #00d7ff; text-decoration-color: #00d7ff\">None</span>, <span style=\"color: #00af00; text-decoration-color: #00af00\">2</span>)              │        <span style=\"color: #00af00; text-decoration-color: #00af00\">11,734</span> │\n",
       "├─────────────────────────────────┼────────────────────────┼───────────────┤\n",
       "│ dense_5 (<span style=\"color: #0087ff; text-decoration-color: #0087ff\">Dense</span>)                 │ (<span style=\"color: #00d7ff; text-decoration-color: #00d7ff\">None</span>, <span style=\"color: #00af00; text-decoration-color: #00af00\">100</span>)            │           <span style=\"color: #00af00; text-decoration-color: #00af00\">300</span> │\n",
       "├─────────────────────────────────┼────────────────────────┼───────────────┤\n",
       "│ dense_6 (<span style=\"color: #0087ff; text-decoration-color: #0087ff\">Dense</span>)                 │ (<span style=\"color: #00d7ff; text-decoration-color: #00d7ff\">None</span>, <span style=\"color: #00af00; text-decoration-color: #00af00\">100</span>)            │        <span style=\"color: #00af00; text-decoration-color: #00af00\">10,100</span> │\n",
       "├─────────────────────────────────┼────────────────────────┼───────────────┤\n",
       "│ mass_pt_reg (<span style=\"color: #0087ff; text-decoration-color: #0087ff\">Dense</span>)             │ (<span style=\"color: #00d7ff; text-decoration-color: #00d7ff\">None</span>, <span style=\"color: #00af00; text-decoration-color: #00af00\">2</span>)              │           <span style=\"color: #00af00; text-decoration-color: #00af00\">202</span> │\n",
       "└─────────────────────────────────┴────────────────────────┴───────────────┘\n",
       "</pre>\n"
      ],
      "text/plain": [
       "┏━━━━━━━━━━━━━━━━━━━━━━━━━━━━━━━━━┳━━━━━━━━━━━━━━━━━━━━━━━━┳━━━━━━━━━━━━━━━┓\n",
       "┃\u001b[1m \u001b[0m\u001b[1mLayer (type)                   \u001b[0m\u001b[1m \u001b[0m┃\u001b[1m \u001b[0m\u001b[1mOutput Shape          \u001b[0m\u001b[1m \u001b[0m┃\u001b[1m \u001b[0m\u001b[1m      Param #\u001b[0m\u001b[1m \u001b[0m┃\n",
       "┡━━━━━━━━━━━━━━━━━━━━━━━━━━━━━━━━━╇━━━━━━━━━━━━━━━━━━━━━━━━╇━━━━━━━━━━━━━━━┩\n",
       "│ input (\u001b[38;5;33mInputLayer\u001b[0m)              │ (\u001b[38;5;45mNone\u001b[0m, \u001b[38;5;34m60\u001b[0m, \u001b[38;5;34m74\u001b[0m)         │             \u001b[38;5;34m0\u001b[0m │\n",
       "├─────────────────────────────────┼────────────────────────┼───────────────┤\n",
       "│ functional (\u001b[38;5;33mFunctional\u001b[0m)         │ (\u001b[38;5;45mNone\u001b[0m, \u001b[38;5;34m2\u001b[0m)              │        \u001b[38;5;34m11,734\u001b[0m │\n",
       "├─────────────────────────────────┼────────────────────────┼───────────────┤\n",
       "│ dense_5 (\u001b[38;5;33mDense\u001b[0m)                 │ (\u001b[38;5;45mNone\u001b[0m, \u001b[38;5;34m100\u001b[0m)            │           \u001b[38;5;34m300\u001b[0m │\n",
       "├─────────────────────────────────┼────────────────────────┼───────────────┤\n",
       "│ dense_6 (\u001b[38;5;33mDense\u001b[0m)                 │ (\u001b[38;5;45mNone\u001b[0m, \u001b[38;5;34m100\u001b[0m)            │        \u001b[38;5;34m10,100\u001b[0m │\n",
       "├─────────────────────────────────┼────────────────────────┼───────────────┤\n",
       "│ mass_pt_reg (\u001b[38;5;33mDense\u001b[0m)             │ (\u001b[38;5;45mNone\u001b[0m, \u001b[38;5;34m2\u001b[0m)              │           \u001b[38;5;34m202\u001b[0m │\n",
       "└─────────────────────────────────┴────────────────────────┴───────────────┘\n"
      ]
     },
     "metadata": {},
     "output_type": "display_data"
    },
    {
     "data": {
      "text/html": [
       "<pre style=\"white-space:pre;overflow-x:auto;line-height:normal;font-family:Menlo,'DejaVu Sans Mono',consolas,'Courier New',monospace\"><span style=\"font-weight: bold\"> Total params: </span><span style=\"color: #00af00; text-decoration-color: #00af00\">22,336</span> (87.25 KB)\n",
       "</pre>\n"
      ],
      "text/plain": [
       "\u001b[1m Total params: \u001b[0m\u001b[38;5;34m22,336\u001b[0m (87.25 KB)\n"
      ]
     },
     "metadata": {},
     "output_type": "display_data"
    },
    {
     "data": {
      "text/html": [
       "<pre style=\"white-space:pre;overflow-x:auto;line-height:normal;font-family:Menlo,'DejaVu Sans Mono',consolas,'Courier New',monospace\"><span style=\"font-weight: bold\"> Trainable params: </span><span style=\"color: #00af00; text-decoration-color: #00af00\">22,188</span> (86.67 KB)\n",
       "</pre>\n"
      ],
      "text/plain": [
       "\u001b[1m Trainable params: \u001b[0m\u001b[38;5;34m22,188\u001b[0m (86.67 KB)\n"
      ]
     },
     "metadata": {},
     "output_type": "display_data"
    },
    {
     "data": {
      "text/html": [
       "<pre style=\"white-space:pre;overflow-x:auto;line-height:normal;font-family:Menlo,'DejaVu Sans Mono',consolas,'Courier New',monospace\"><span style=\"font-weight: bold\"> Non-trainable params: </span><span style=\"color: #00af00; text-decoration-color: #00af00\">148</span> (592.00 B)\n",
       "</pre>\n"
      ],
      "text/plain": [
       "\u001b[1m Non-trainable params: \u001b[0m\u001b[38;5;34m148\u001b[0m (592.00 B)\n"
      ]
     },
     "metadata": {},
     "output_type": "display_data"
    },
    {
     "data": {
      "text/html": [
       "<pre style=\"white-space:pre;overflow-x:auto;line-height:normal;font-family:Menlo,'DejaVu Sans Mono',consolas,'Courier New',monospace\"><span style=\"font-weight: bold\">Model: \"functional_2\"</span>\n",
       "</pre>\n"
      ],
      "text/plain": [
       "\u001b[1mModel: \"functional_2\"\u001b[0m\n"
      ]
     },
     "metadata": {},
     "output_type": "display_data"
    },
    {
     "data": {
      "text/html": [
       "<pre style=\"white-space:pre;overflow-x:auto;line-height:normal;font-family:Menlo,'DejaVu Sans Mono',consolas,'Courier New',monospace\">┏━━━━━━━━━━━━━━━━━━━━━┳━━━━━━━━━━━━━━━━━━━┳━━━━━━━━━━━━┳━━━━━━━━━━━━━━━━━━━┓\n",
       "┃<span style=\"font-weight: bold\"> Layer (type)        </span>┃<span style=\"font-weight: bold\"> Output Shape      </span>┃<span style=\"font-weight: bold\">    Param # </span>┃<span style=\"font-weight: bold\"> Connected to      </span>┃\n",
       "┡━━━━━━━━━━━━━━━━━━━━━╇━━━━━━━━━━━━━━━━━━━╇━━━━━━━━━━━━╇━━━━━━━━━━━━━━━━━━━┩\n",
       "│ input (<span style=\"color: #0087ff; text-decoration-color: #0087ff\">InputLayer</span>)  │ (<span style=\"color: #00d7ff; text-decoration-color: #00d7ff\">None</span>, <span style=\"color: #00af00; text-decoration-color: #00af00\">60</span>, <span style=\"color: #00af00; text-decoration-color: #00af00\">74</span>)    │          <span style=\"color: #00af00; text-decoration-color: #00af00\">0</span> │ -                 │\n",
       "├─────────────────────┼───────────────────┼────────────┼───────────────────┤\n",
       "│ functional          │ (<span style=\"color: #00d7ff; text-decoration-color: #00d7ff\">None</span>, <span style=\"color: #00af00; text-decoration-color: #00af00\">2</span>)         │     <span style=\"color: #00af00; text-decoration-color: #00af00\">11,734</span> │ input[<span style=\"color: #00af00; text-decoration-color: #00af00\">0</span>][<span style=\"color: #00af00; text-decoration-color: #00af00\">0</span>]       │\n",
       "│ (<span style=\"color: #0087ff; text-decoration-color: #0087ff\">Functional</span>)        │                   │            │                   │\n",
       "├─────────────────────┼───────────────────┼────────────┼───────────────────┤\n",
       "│ functional_1        │ (<span style=\"color: #00d7ff; text-decoration-color: #00d7ff\">None</span>, <span style=\"color: #00af00; text-decoration-color: #00af00\">2</span>)         │     <span style=\"color: #00af00; text-decoration-color: #00af00\">22,336</span> │ input[<span style=\"color: #00af00; text-decoration-color: #00af00\">0</span>][<span style=\"color: #00af00; text-decoration-color: #00af00\">0</span>]       │\n",
       "│ (<span style=\"color: #0087ff; text-decoration-color: #0087ff\">Functional</span>)        │                   │            │                   │\n",
       "└─────────────────────┴───────────────────┴────────────┴───────────────────┘\n",
       "</pre>\n"
      ],
      "text/plain": [
       "┏━━━━━━━━━━━━━━━━━━━━━┳━━━━━━━━━━━━━━━━━━━┳━━━━━━━━━━━━┳━━━━━━━━━━━━━━━━━━━┓\n",
       "┃\u001b[1m \u001b[0m\u001b[1mLayer (type)       \u001b[0m\u001b[1m \u001b[0m┃\u001b[1m \u001b[0m\u001b[1mOutput Shape     \u001b[0m\u001b[1m \u001b[0m┃\u001b[1m \u001b[0m\u001b[1m   Param #\u001b[0m\u001b[1m \u001b[0m┃\u001b[1m \u001b[0m\u001b[1mConnected to     \u001b[0m\u001b[1m \u001b[0m┃\n",
       "┡━━━━━━━━━━━━━━━━━━━━━╇━━━━━━━━━━━━━━━━━━━╇━━━━━━━━━━━━╇━━━━━━━━━━━━━━━━━━━┩\n",
       "│ input (\u001b[38;5;33mInputLayer\u001b[0m)  │ (\u001b[38;5;45mNone\u001b[0m, \u001b[38;5;34m60\u001b[0m, \u001b[38;5;34m74\u001b[0m)    │          \u001b[38;5;34m0\u001b[0m │ -                 │\n",
       "├─────────────────────┼───────────────────┼────────────┼───────────────────┤\n",
       "│ functional          │ (\u001b[38;5;45mNone\u001b[0m, \u001b[38;5;34m2\u001b[0m)         │     \u001b[38;5;34m11,734\u001b[0m │ input[\u001b[38;5;34m0\u001b[0m][\u001b[38;5;34m0\u001b[0m]       │\n",
       "│ (\u001b[38;5;33mFunctional\u001b[0m)        │                   │            │                   │\n",
       "├─────────────────────┼───────────────────┼────────────┼───────────────────┤\n",
       "│ functional_1        │ (\u001b[38;5;45mNone\u001b[0m, \u001b[38;5;34m2\u001b[0m)         │     \u001b[38;5;34m22,336\u001b[0m │ input[\u001b[38;5;34m0\u001b[0m][\u001b[38;5;34m0\u001b[0m]       │\n",
       "│ (\u001b[38;5;33mFunctional\u001b[0m)        │                   │            │                   │\n",
       "└─────────────────────┴───────────────────┴────────────┴───────────────────┘\n"
      ]
     },
     "metadata": {},
     "output_type": "display_data"
    },
    {
     "data": {
      "text/html": [
       "<pre style=\"white-space:pre;overflow-x:auto;line-height:normal;font-family:Menlo,'DejaVu Sans Mono',consolas,'Courier New',monospace\"><span style=\"font-weight: bold\"> Total params: </span><span style=\"color: #00af00; text-decoration-color: #00af00\">22,336</span> (87.25 KB)\n",
       "</pre>\n"
      ],
      "text/plain": [
       "\u001b[1m Total params: \u001b[0m\u001b[38;5;34m22,336\u001b[0m (87.25 KB)\n"
      ]
     },
     "metadata": {},
     "output_type": "display_data"
    },
    {
     "data": {
      "text/html": [
       "<pre style=\"white-space:pre;overflow-x:auto;line-height:normal;font-family:Menlo,'DejaVu Sans Mono',consolas,'Courier New',monospace\"><span style=\"font-weight: bold\"> Trainable params: </span><span style=\"color: #00af00; text-decoration-color: #00af00\">22,188</span> (86.67 KB)\n",
       "</pre>\n"
      ],
      "text/plain": [
       "\u001b[1m Trainable params: \u001b[0m\u001b[38;5;34m22,188\u001b[0m (86.67 KB)\n"
      ]
     },
     "metadata": {},
     "output_type": "display_data"
    },
    {
     "data": {
      "text/html": [
       "<pre style=\"white-space:pre;overflow-x:auto;line-height:normal;font-family:Menlo,'DejaVu Sans Mono',consolas,'Courier New',monospace\"><span style=\"font-weight: bold\"> Non-trainable params: </span><span style=\"color: #00af00; text-decoration-color: #00af00\">148</span> (592.00 B)\n",
       "</pre>\n"
      ],
      "text/plain": [
       "\u001b[1m Non-trainable params: \u001b[0m\u001b[38;5;34m148\u001b[0m (592.00 B)\n"
      ]
     },
     "metadata": {},
     "output_type": "display_data"
    }
   ],
   "source": [
    "# ======================================\n",
    "# Define Deep Sets Discriminator Model\n",
    "# ======================================\n",
    "\n",
    "# Input layer: shape = (number of tracks, number of features per track)\n",
    "inputs = Input(shape=(ntracks, nfeatures), name='input')\n",
    "\n",
    "# Per-track feature transformation layers\n",
    "x = BatchNormalization(name='bn1')(inputs)              # Normalize features\n",
    "x = Dense(64, activation='relu', name='dense_1')(x)     # First dense layer\n",
    "x = Dense(32, activation='relu', name='dense_2')(x)     # Second dense layer\n",
    "x = Dense(32, activation='relu', name='dense_3')(x)     # Third dense layer\n",
    "\n",
    "# Pool across all tracks (Deep Sets symmetry function)\n",
    "x = GlobalAveragePooling1D(name='pool_1')(x)\n",
    "\n",
    "# Final classification layers\n",
    "x = Dense(100, activation='relu', name='dense_4')(x)\n",
    "outputs = Dense(nlabels, activation='softmax', name='output')(x)  # Classifier output\n",
    "\n",
    "# Construct and compile discriminator model\n",
    "keras_model_disc = Model(inputs=inputs, outputs=outputs)\n",
    "keras_model_disc.compile(optimizer='adam', loss='categorical_crossentropy')\n",
    "\n",
    "# ======================================\n",
    "# Define Adversarial Regressor Model\n",
    "# ======================================\n",
    "\n",
    "# Use output of discriminator as input to the regressor\n",
    "x = Dense(100, activation='relu', name='dense_5')(keras_model_disc(inputs))  # First regressor layer\n",
    "x = Dense(100, activation='relu', name='dense_6')(x)                         # Second regressor layer\n",
    "output_reg = Dense(2, activation='linear', name='mass_pt_reg')(x)           # Output layer: mass and pT\n",
    "\n",
    "# Construct and compile regressor model\n",
    "sgd_opt = keras.optimizers.SGD(momentum=0.0)\n",
    "keras_model_reg = Model(inputs=inputs, outputs=output_reg)\n",
    "keras_model_reg.compile(optimizer=sgd_opt, loss='mse')\n",
    "\n",
    "# ======================================\n",
    "# Combine Models into Adversarial Setup\n",
    "# ======================================\n",
    "\n",
    "# Combine discriminator and regressor into a single adversarial model\n",
    "# Loss weights: [classifier loss, -λ × regression loss]\n",
    "lam = 1  # λ controls adversarial strength (try tuning this)\n",
    "keras_model_adv = Model(inputs=inputs, outputs=[keras_model_disc(inputs), keras_model_reg(inputs)])\n",
    "keras_model_adv.compile(\n",
    "    optimizer=sgd_opt,\n",
    "    loss=['categorical_crossentropy', 'mse'],\n",
    "    loss_weights=[1, -lam]\n",
    ")\n",
    "\n",
    "# ======================================\n",
    "# Print Model Summaries\n",
    "# ======================================\n",
    "keras_model_disc.summary()   # Discriminator model (signal vs. background)\n",
    "keras_model_reg.summary()    # Regressor model (mass & pT prediction)\n",
    "keras_model_adv.summary()    # Combined adversarial model"
   ]
  },
  {
   "cell_type": "code",
   "execution_count": 6,
   "id": "0afd7779-c995-494f-a56b-adf948ae2f1f",
   "metadata": {},
   "outputs": [],
   "source": [
    "# ======================================\n",
    "# Step 1: Pretrain Discriminator (Deep Sets Classifier)\n",
    "# ======================================\n",
    "\n",
    "# Make sure the classifier is trainable\n",
    "keras_model_disc.trainable = True\n",
    "\n",
    "# Re-compile to apply the trainable flag\n",
    "keras_model_disc.compile(optimizer='adam', loss='categorical_crossentropy')\n",
    "\n",
    "# Loop over epochs and batches\n",
    "for epoch in range(20):\n",
    "    for i, t in enumerate(train_generator):\n",
    "        if t is None:\n",
    "            break  # Skip empty batches\n",
    "        else:\n",
    "            # Train only on classification labels (t[1][0] → class label)\n",
    "            keras_model_disc.fit(t[0], t[1][0], verbose=0)\n",
    "\n",
    "\n",
    "# ======================================\n",
    "# Step 2: Pretrain Regressor (Adversary)\n",
    "# ======================================\n",
    "\n",
    "# Allow regressor to train, freeze classifier\n",
    "keras_model_reg.trainable = True\n",
    "keras_model_disc.trainable = False\n",
    "\n",
    "# Re-compile regressor with SGD optimizer\n",
    "keras_model_reg.compile(optimizer=sgd_opt, loss='mse')\n",
    "\n",
    "# Loop over epochs and batches\n",
    "for epoch in range(20):\n",
    "    for i, t in enumerate(train_generator):\n",
    "        if t is None:\n",
    "            break  # Skip empty batches\n",
    "        else:\n",
    "            # Regress on classifier outputs (this is likely incorrect — see note below)\n",
    "            keras_model_reg.fit(t[0], t[1][0], verbose=0)"
   ]
  },
  {
   "cell_type": "code",
   "execution_count": 7,
   "id": "885e19e8-96af-40c8-bbfb-c75064f0d4d8",
   "metadata": {},
   "outputs": [],
   "source": [
    "# Save the model and the weights\n",
    "keras_model_adv.save_weights('./trained_models/new_models/keras_model_best_adversarial_weights.weights.h5')\n",
    "\n",
    "keras_model_adv.save('./trained_models/new_models/keras_model_best_adversarial.keras')"
   ]
  },
  {
   "cell_type": "code",
   "execution_count": 8,
   "id": "d51c3e2c-30f1-4bce-ad01-169bb0f27161",
   "metadata": {},
   "outputs": [
    {
     "name": "stdout",
     "output_type": "stream",
     "text": [
      "\u001b[1m11/11\u001b[0m \u001b[32m━━━━━━━━━━━━━━━━━━━━\u001b[0m\u001b[37m\u001b[0m \u001b[1m0s\u001b[0m 6ms/step \n",
      "\u001b[1m10/10\u001b[0m \u001b[32m━━━━━━━━━━━━━━━━━━━━\u001b[0m\u001b[37m\u001b[0m \u001b[1m0s\u001b[0m 2ms/step \n",
      "\u001b[1m11/11\u001b[0m \u001b[32m━━━━━━━━━━━━━━━━━━━━\u001b[0m\u001b[37m\u001b[0m \u001b[1m0s\u001b[0m 2ms/step \n",
      "\u001b[1m10/10\u001b[0m \u001b[32m━━━━━━━━━━━━━━━━━━━━\u001b[0m\u001b[37m\u001b[0m \u001b[1m0s\u001b[0m 2ms/step \n"
     ]
    }
   ],
   "source": [
    "# ============================================\n",
    "# Evaluate Adversarial Model on Test Dataset\n",
    "# ============================================\n",
    "\n",
    "# Initialize empty lists to store:\n",
    "# - predictions from the adversarial model\n",
    "# - true labels (for classification)\n",
    "# - spectator variables (mass, pt)\n",
    "predict_array_adv = []\n",
    "label_array_test = []\n",
    "spec_array_test = []\n",
    "\n",
    "\n",
    "# Loop over test batches\n",
    "for i, t in enumerate(test_generator):\n",
    "    if t is None:\n",
    "        break  # Skip if batch is empty\n",
    "    else:\n",
    "        # Store classification labels (y)\n",
    "        label_array_test.append(t[1][0])\n",
    "\n",
    "        # Store spectator variables (e.g. mass, pt)\n",
    "        spec_array_test.append(t[1][1])\n",
    "\n",
    "        # Get predictions from adversarial model\n",
    "        # keras_model_adv.predict(...) returns [classifier_output, regressor_output]\n",
    "        # Here we only care about classifier output → index 0\n",
    "        predict_array_adv.append(keras_model_adv.predict(t[0])[0])\n",
    "\n",
    "\n",
    "# Concatenate all stored outputs from each batch\n",
    "predict_array_adv = np.concatenate(predict_array_adv, axis=0)     # Predicted class probabilities\n",
    "label_array_test  = np.concatenate(label_array_test, axis=0)      # True class labels\n",
    "spec_array_test   = np.concatenate(spec_array_test, axis=0)       # Spectator variables (mass, pt)\n"
   ]
  },
  {
   "cell_type": "code",
   "execution_count": 9,
   "id": "700f26bb-ab41-4ffe-88a1-70572baebeb2",
   "metadata": {},
   "outputs": [
    {
     "data": {
      "image/png": "[encoded data removed]",
      "text/plain": [
       "<Figure size 1000x1000 with 1 Axes>"
      ]
     },
     "metadata": {},
     "output_type": "display_data"
    }
   ],
   "source": [
    "# ===========================================================\n",
    "# Compute ROC Curve and AUC Score for Adversarial Classifier\n",
    "# ===========================================================\n",
    "fpr_adv, tpr_adv, threshold_adv = roc_curve(label_array_test[:, 1], predict_array_adv[:, 1])\n",
    "auc_adv = auc(fpr_adv, tpr_adv)\n",
    "\n",
    "# ===========================\n",
    "# Plot ROC Curve with Cuts Box\n",
    "# ===========================\n",
    "plt.figure()\n",
    "\n",
    "# Plot the ROC curve\n",
    "plt.plot(tpr_adv, fpr_adv, label=f\"Adversarial, AUC = {auc_adv*100:.1f}%\")\n",
    "\n",
    "# Axis labels and formatting\n",
    "plt.xlabel(r'True Positive Rate')\n",
    "plt.ylabel(r'False Positive Rate')\n",
    "plt.semilogy()\n",
    "plt.xlim(0, 1)\n",
    "plt.ylim(0.001, 1)\n",
    "plt.grid(True)\n",
    "plt.legend(loc='upper left')\n",
    "plt.title('ROC Curve for Adversarial Network')\n",
    "\n",
    "# ===========================\n",
    "# Add a Box Showing Cuts\n",
    "# ===========================\n",
    "\n",
    "# Text box content\n",
    "cut_text = (\n",
    "    \"Applied Cuts:\\n\"\n",
    "    r\"$40 < m < 200$ GeV\" \"\\n\"\n",
    "    r\"$300 < p_T < 2000$ GeV\"\n",
    ")\n",
    "\n",
    "# Add the annotation box to the plot\n",
    "plt.gca().text(\n",
    "    0.6,              # x position (in axis fraction)\n",
    "    0.01,             # y position (in axis fraction for log scale)\n",
    "    cut_text,\n",
    "    fontsize=10,\n",
    "    bbox=dict(boxstyle=\"round\", facecolor=\"lightgray\", edgecolor=\"black\", alpha=0.8)\n",
    ")\n",
    "\n",
    "# Show the plot\n",
    "plt.show()\n"
   ]
  },
  {
   "cell_type": "code",
   "execution_count": null,
   "id": "18be9982-1638-42ba-8c53-1f92c90421cf",
   "metadata": {},
   "outputs": [],
   "source": []
  }
 ],
 "metadata": {
  "kernelspec": {
   "display_name": "Python 3 (ipykernel)",
   "language": "python",
   "name": "python3"
  },
  "language_info": {
   "codemirror_mode": {
    "name": "ipython",
    "version": 3
   },
   "file_extension": ".py",
   "mimetype": "text/x-python",
   "name": "python",
   "nbconvert_exporter": "python",
   "pygments_lexer": "ipython3",
   "version": "3.11.9"
  }
 },
 "nbformat": 4,
 "nbformat_minor": 5
}
