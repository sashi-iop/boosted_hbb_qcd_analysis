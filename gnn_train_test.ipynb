{
 "cells": [
  {
   "cell_type": "markdown",
   "id": "084afd1f-4b8f-4e6e-b795-f45536934670",
   "metadata": {
    "jp-MarkdownHeadingCollapsed": true
   },
   "source": [
    "# Graph Neural Network for Jet Constituents Classification\n",
    "\n",
    "This section presents a Graph Neural Network (GNN) approach for classifying jets as either QCD background or Higgs signal using low-level information from jet constituents. Jets are modeled as graphs, where:\n",
    "\n",
    "Nodes represent jet constituents (e.g., tracks).\n",
    "\n",
    "Edges connect all pairs of nodes (fully connected or k-NN) to capture relationships among constituents.\n",
    "\n",
    "Key highlights:\n",
    "\n",
    "Constructs graphs using features like ptrel, etarel, phirel, etc.\n",
    "\n",
    "Uses torch_geometric for graph processing with message-passing layers (e.g., MetaLayer, EdgeConv).\n",
    "\n",
    "Applies global mean pooling to aggregate node-level information for jet-level classification.\n",
    "\n",
    "Incorporates mass and pT selection:\n",
    "\n",
    "Mass: 40 GeV < M<sub>sd</sub> < 200 GeV\n",
    "\n",
    "Transverse momentum: 300 GeV < p<sub>T</sub> < 2000 GeV\n",
    "\n",
    "This method is particularly effective in capturing the relational structure of particles within jets, making it a powerful tool in physics-informed machine learning."
   ]
  },
  {
   "cell_type": "code",
   "execution_count": 1,
   "id": "59015f6a-f0ff-45b2-aa96-64b90c71bc45",
   "metadata": {},
   "outputs": [],
   "source": [
    "# ======================================================================================\n",
    "# NUMPY for general numerical operations\n",
    "# ======================================================================================\n",
    "import numpy as np\n",
    "\n",
    "# ======================================================================================\n",
    "# YAML for loading configuration (e.g., feature/label/spectator definitions)\n",
    "# tqdm.notebook for progress bars in notebooks\n",
    "# Custom graph dataset loader\n",
    "# ======================================================================================\n",
    "import yaml\n",
    "from tqdm.notebook import tqdm\n",
    "from utilities.gnn_data_generator import GraphDataset  # your custom dataset class\n",
    "\n",
    "# ======================================================================================\n",
    "# Matplotlib + mplhep for HEP-style plots\n",
    "# Set style to ROOT (CMS-style)\n",
    "# ======================================================================================\n",
    "import matplotlib.pyplot as plt\n",
    "import mplhep as hep\n",
    "plt.style.use(hep.style.ROOT)\n",
    "\n",
    "# ======================================================================================\n",
    "# PyTorch: Core neural network building blocks\n",
    "# ======================================================================================\n",
    "import torch\n",
    "import torch.nn as nn\n",
    "import torch.nn.functional as F\n",
    "from torch.nn import Sequential as Seq, Linear as Lin, ReLU, BatchNorm1d  # clean shortcuts\n",
    "\n",
    "# ======================================================================================\n",
    "# PyTorch Geometric: GNN layers, datasets, and utilities\n",
    "# ======================================================================================\n",
    "import torch_geometric\n",
    "import torch_geometric.transforms as T\n",
    "from torch_geometric.nn import MetaLayer\n",
    "from torch_geometric.data import Data, Batch\n",
    "from torch_geometric.loader import DataListLoader  # for multi-GPU training\n",
    "\n",
    "# Basic GNN layers and pooling\n",
    "from torch_geometric.nn import EdgeConv, global_mean_pool\n",
    "\n",
    "# PyTorch Scatter: aggregation operations for graph edges/vertices\n",
    "from torch_scatter import scatter_mean\n",
    "\n",
    "# ======================================================================================\n",
    "# PyTorch utilities for dataset splitting\n",
    "# ======================================================================================\n",
    "from torch.utils.data import random_split\n",
    "\n",
    "# ======================================================================================\n",
    "# Scikit-learn: evaluation metrics (ROC curve, AUC)\n",
    "# ======================================================================================\n",
    "from sklearn.metrics import roc_curve, auc\n",
    "\n",
    "# ======================================================================================\n",
    "# OS utilities: manage file paths\n",
    "# ======================================================================================\n",
    "import os.path as osp\n"
   ]
  },
  {
   "cell_type": "code",
   "execution_count": 2,
   "id": "0ac8d788-2857-4a11-aebd-24a2d98f1fb6",
   "metadata": {},
   "outputs": [
    {
     "name": "stdout",
     "output_type": "stream",
     "text": [
      "cuda:0\n"
     ]
    }
   ],
   "source": [
    "device = torch.device(\"cuda:0\" if torch.cuda.is_available() else \"cpu\")\n",
    "print(device)"
   ]
  },
  {
   "cell_type": "code",
   "execution_count": 3,
   "id": "6092fceb-ec58-470f-aa64-c46fd382705e",
   "metadata": {},
   "outputs": [],
   "source": [
    "with open('./utilities/definitions_gnn_deepset_adversarial.yml') as file:\n",
    "    definitions = yaml.load(file, Loader = yaml.FullLoader)\n",
    "\n",
    "features = definitions['features']\n",
    "labels = definitions['labels']\n",
    "spectators = definitions['spectators']\n",
    "\n",
    "nfeatures = definitions['nfeatures']\n",
    "nspectators = definitions['nspectators']\n",
    "nlabels = definitions['nlabels']\n",
    "ntracks = definitions['ntracks']"
   ]
  },
  {
   "cell_type": "code",
   "execution_count": 4,
   "id": "007e0f76-8e22-4e7c-8345-775045385911",
   "metadata": {},
   "outputs": [],
   "source": [
    "# ======================================================================================\n",
    "# Set data source: local files or remote (XRootD/EOS)\n",
    "# ======================================================================================\n",
    "local = True  # Set to False if working on EOS (e.g., on CERN lxplus or batch)\n",
    "\n",
    "if local:\n",
    "    # Paths to local ROOT files for training, validation, and testing\n",
    "    file_names = ['/home/sashi/predoc project/project/ntuple_merged_10.root']\n",
    "    file_names_val = ['/home/sashi/predoc project/project/ntuple_merged_11.root']\n",
    "    file_names_test = ['/home/sashi/predoc project/project/ntuple_merged_0.root']\n",
    "else:\n",
    "    # EOS public remote files for HiggsToBB (QCD background and signal)\n",
    "    file_names = [\n",
    "        'root://eospublic.cern.ch//eos/opendata/cms/datascience/HiggsToBBNtupleProducerTool/HiggsToBBNTuple_HiggsToBB_QCD_RunII_13TeV_MC/train/ntuple_merged_10.root'\n",
    "    ]\n",
    "    file_names_test = [\n",
    "        'root://eospublic.cern.ch//eos/opendata/cms/datascience/HiggsToBBNtupleProducerTool/HiggsToBBNTuple_HiggsToBB_QCD_RunII_13TeV_MC/test/ntuple_merged_0.root'\n",
    "    ]\n",
    "\n",
    "# ======================================================================================\n",
    "# Define number of events to load from each dataset\n",
    "# ======================================================================================\n",
    "n_events_train = 1000\n",
    "n_events_val   = 500\n",
    "n_events_test  = 500\n",
    "\n",
    "# ======================================================================================\n",
    "# Instantiate training, validation, and test datasets using GraphDataset\n",
    "# Each dataset is saved in a subfolder like `gdata_train_60`, where 60 = #features\n",
    "# Set `n_events_merge = 1` to save one event per `.pt` file (per sample graph)\n",
    "# ======================================================================================\n",
    "\n",
    "graph_dataset = GraphDataset(f'gdata_train_{nfeatures}',\n",
    "                             features,\n",
    "                             labels,\n",
    "                             spectators,\n",
    "                             n_events=n_events_train,\n",
    "                             n_events_merge=1,\n",
    "                             file_names=file_names)\n",
    "\n",
    "graph_dataset_val = GraphDataset(f'gdata_val_{nfeatures}',\n",
    "                                 features,\n",
    "                                 labels,\n",
    "                                 spectators,\n",
    "                                 n_events=n_events_val,\n",
    "                                 n_events_merge=1,\n",
    "                                 file_names=file_names_val)\n",
    "\n",
    "test_dataset = GraphDataset(f'gdata_test_{nfeatures}',\n",
    "                            features,\n",
    "                            labels,\n",
    "                            spectators,\n",
    "                            n_events=n_events_test,\n",
    "                            n_events_merge=1,\n",
    "                            file_names=file_names_test)\n"
   ]
  },
  {
   "cell_type": "code",
   "execution_count": 5,
   "id": "7ac5c4a5-8826-4066-bcd9-7933a6114afe",
   "metadata": {},
   "outputs": [],
   "source": [
    "# ======================================================================================\n",
    "# Define input/output dimensions for the GNN\n",
    "# inputs  = number of input node features (e.g., 60)\n",
    "# hidden  = size of hidden layers in MLPs\n",
    "# outputs = number of output classes (e.g., 2: QCD vs Higgs)\n",
    "# ======================================================================================\n",
    "inputs = nfeatures\n",
    "hidden = 256\n",
    "outputs = 2\n",
    "\n",
    "# ======================================================================================\n",
    "# EdgeBlock: Computes edge features using source and destination node features\n",
    "# ======================================================================================\n",
    "class EdgeBlock(torch.nn.Module):\n",
    "    def __init__(self):\n",
    "        super().__init__()  # standard parent class init\n",
    "\n",
    "        self.edge_mlp = Seq(\n",
    "            Lin(inputs * 2, hidden),         # Input: concatenated src + dest\n",
    "            BatchNorm1d(hidden),\n",
    "            ReLU(),\n",
    "            Lin(hidden, hidden),             # Further transform\n",
    "            BatchNorm1d(hidden)\n",
    "        )\n",
    "\n",
    "    def forward(self, src, dest, edge_attr, u, batch):\n",
    "        out = torch.cat([src, dest], dim=1)  # shape: [n_edges, 2*inputs]\n",
    "        return self.edge_mlp(out)            # shape: [n_edges, hidden]\n",
    "\n",
    "# ======================================================================================\n",
    "# NodeBlock: Updates node features using incoming edge messages\n",
    "# ======================================================================================\n",
    "class NodeBlock(torch.nn.Module):\n",
    "    def __init__(self):\n",
    "        super(NodeBlock, self).__init__()\n",
    "\n",
    "        self.node_mlp_1 = Seq(\n",
    "            Lin(inputs + hidden, hidden),    # Combine current node and incoming edge msg\n",
    "            BatchNorm1d(hidden),\n",
    "            ReLU(),\n",
    "            Lin(hidden, hidden),\n",
    "            BatchNorm1d(hidden)\n",
    "        )\n",
    "\n",
    "        self.node_mlp_2 = Seq(\n",
    "            Lin(inputs + hidden, hidden),    # Again combine and transform\n",
    "            BatchNorm1d(hidden),\n",
    "            ReLU(),\n",
    "            Lin(hidden, hidden),\n",
    "            BatchNorm1d(hidden)\n",
    "        )\n",
    "\n",
    "    def forward(self, x, edge_index, edge_attr, u, batch):\n",
    "        row, col = edge_index                # row: source, col: destination\n",
    "        out = torch.cat([x[row], edge_attr], dim=1)  # gather source node and edge_attr\n",
    "        out = self.node_mlp_1(out)\n",
    "        out = scatter_mean(out, col, dim=0, dim_size=x.size(0))  # aggregate messages at each node\n",
    "        out = torch.cat([x, out], dim=1)\n",
    "        return self.node_mlp_2(out)\n",
    "\n",
    "# ======================================================================================\n",
    "# GlobalBlock: Pool node-level features to form a graph-level representation\n",
    "# ======================================================================================\n",
    "class GlobalBlock(torch.nn.Module):\n",
    "    def __init__(self):\n",
    "        super(GlobalBlock, self).__init__()\n",
    "\n",
    "        self.global_mlp = Seq(\n",
    "            Lin(hidden, hidden),\n",
    "            BatchNorm1d(hidden),\n",
    "            ReLU(),\n",
    "            Lin(hidden, outputs)             # Output layer: logits for 2 classes\n",
    "        )\n",
    "\n",
    "    def forward(self, x, edge_index, edge_attr, u, batch):\n",
    "        out = scatter_mean(x, batch, dim=0)  # global mean pooling over graph\n",
    "        return self.global_mlp(out)          # returns graph-level predictions (logits)\n",
    "\n",
    "# ======================================================================================\n",
    "# Full MetaLayer-based GNN model using PyTorch Geometric's MetaLayer\n",
    "# ======================================================================================\n",
    "class InteractionNetwork(torch.nn.Module):\n",
    "    def __init__(self):\n",
    "        super(InteractionNetwork, self).__init__()\n",
    "\n",
    "        # Wrap edge/node/global blocks into one MetaLayer\n",
    "        self.interactionnetwork = MetaLayer(\n",
    "            EdgeBlock(),\n",
    "            NodeBlock(),\n",
    "            GlobalBlock()\n",
    "        )\n",
    "\n",
    "        self.bn = BatchNorm1d(inputs)  # Initial batch norm on input features\n",
    "\n",
    "    def forward(self, x, edge_index, batch):\n",
    "        x = self.bn(x)  # normalize node input features\n",
    "        x, edge_attr, u = self.interactionnetwork(x, edge_index, None, None, batch)\n",
    "        return u  # `u` is the graph-level output from GlobalBlock\n",
    "\n",
    "# ======================================================================================\n",
    "# Instantiate model and optimizer\n",
    "# ======================================================================================\n",
    "model = InteractionNetwork().to(device)\n",
    "optimizer = torch.optim.Adam(model.parameters(), lr=1e-2)\n"
   ]
  },
  {
   "cell_type": "code",
   "execution_count": 6,
   "id": "56795c66-7a97-4523-9236-731087d4c1d6",
   "metadata": {},
   "outputs": [],
   "source": [
    "# ======================================================================================\n",
    "# TEST FUNCTION\n",
    "# Performs evaluation over the validation/test dataset (no gradients needed)\n",
    "# ======================================================================================\n",
    "@torch.no_grad()\n",
    "def test(model, loader, total, batch_size, leave=False):\n",
    "    model.eval()  # Set model to evaluation mode (e.g., disables dropout, BN update)\n",
    "\n",
    "    xentropy = nn.CrossEntropyLoss(reduction='mean')  # Define loss function\n",
    "\n",
    "    sum_loss = 0.0  # Running total of loss\n",
    "\n",
    "    # Progress bar over test batches\n",
    "    t = tqdm(enumerate(loader), total=total / batch_size, leave=leave)\n",
    "    for i, data in t:\n",
    "        data = data.to(device)                     # Move batch to GPU/CPU\n",
    "        y = torch.argmax(data.y, dim=1)            # Get true class index (from one-hot labels)\n",
    "        batch_output = model(data.x, data.edge_index, data.batch)  # Forward pass\n",
    "        batch_loss_item = xentropy(batch_output, y).item()         # Compute scalar loss\n",
    "        sum_loss += batch_loss_item\n",
    "\n",
    "        t.set_description(\"loss = %.5f\" % batch_loss_item)         # Live loss print\n",
    "        t.refresh()\n",
    "\n",
    "    return sum_loss / (i + 1)  # Return average loss over all batches\n",
    "\n",
    "# ======================================================================================\n",
    "# TRAIN FUNCTION\n",
    "# Performs one training epoch over the dataset\n",
    "# ======================================================================================\n",
    "def train(model, optimizer, loader, total, batch_size, leave=False):\n",
    "    model.train()  # Set model to training mode\n",
    "\n",
    "    xentropy = nn.CrossEntropyLoss(reduction='mean')  # Define loss\n",
    "\n",
    "    sum_loss = 0.0\n",
    "\n",
    "    # Progress bar over training batches\n",
    "    t = tqdm(enumerate(loader), total=total / batch_size, leave=leave)\n",
    "    for i, data in t:\n",
    "        data = data.to(device)                      # Move batch to device\n",
    "        y = torch.argmax(data.y, dim=1)             # Extract target labels\n",
    "        optimizer.zero_grad()                       # Reset gradients\n",
    "        batch_output = model(data.x, data.edge_index, data.batch)  # Forward pass\n",
    "        batch_loss = xentropy(batch_output, y)      # Compute loss\n",
    "        batch_loss.backward()                       # Backward pass\n",
    "        batch_loss_item = batch_loss.item()\n",
    "        t.set_description(\"loss = %.5f\" % batch_loss_item)  # Live update\n",
    "        t.refresh()\n",
    "        sum_loss += batch_loss_item\n",
    "        optimizer.step()                            # Update model parameters\n",
    "\n",
    "    return sum_loss / (i + 1)  # Return average training loss\n"
   ]
  },
  {
   "cell_type": "code",
   "execution_count": 7,
   "id": "e0e7eea7-f2e3-4fe7-88e1-fb07e72d72ea",
   "metadata": {},
   "outputs": [
    {
     "name": "stdout",
     "output_type": "stream",
     "text": [
      "Total trainable data is 300\n",
      "Data available for validation is 160\n",
      "Data available for test is 158\n"
     ]
    }
   ],
   "source": [
    "# ======================================================================================\n",
    "# Custom collate function to flatten nested list of `Data` objects into a `Batch`\n",
    "# Required because `GraphDataset.process()` stores data as nested lists: [[Data]]\n",
    "# ======================================================================================\n",
    "def collate(items):\n",
    "    l = sum(items, [])                    # Flatten list of lists: [[Data], [Data]] → [Data, Data, ...]\n",
    "    return Batch.from_data_list(l)       # Create PyG Batch object from list of graphs\n",
    "\n",
    "# ======================================================================================\n",
    "# Set random seed for reproducibility\n",
    "# ======================================================================================\n",
    "torch.manual_seed(0)\n",
    "\n",
    "# ======================================================================================\n",
    "# Define batch size for training/validation/testing\n",
    "# ======================================================================================\n",
    "batch_size = 32\n",
    "\n",
    "# ======================================================================================\n",
    "# Setup PyTorch Geometric DataLoaders using `DataListLoader`\n",
    "# DataListLoader is recommended when using multiple GPUs or .pt files storing lists\n",
    "# Each loader is passed the `collate` function to ensure correct batch formatting\n",
    "# ======================================================================================\n",
    "train_loader = DataListLoader(graph_dataset,\n",
    "                              batch_size=batch_size,\n",
    "                              pin_memory=True,\n",
    "                              shuffle=True)\n",
    "train_loader.collate_fn = collate\n",
    "\n",
    "valid_loader = DataListLoader(graph_dataset_val,\n",
    "                              batch_size=batch_size,\n",
    "                              pin_memory=True,\n",
    "                              shuffle=False)\n",
    "valid_loader.collate_fn = collate\n",
    "\n",
    "test_loader = DataListLoader(test_dataset,\n",
    "                             batch_size=batch_size,\n",
    "                             pin_memory=True,\n",
    "                             shuffle=False)\n",
    "test_loader.collate_fn = collate\n",
    "\n",
    "# ======================================================================================\n",
    "# Print dataset statistics\n",
    "# ======================================================================================\n",
    "full_length   = len(graph_dataset)         # Total number of training samples\n",
    "train_samples = len(graph_dataset)\n",
    "valid_samples = len(graph_dataset_val)\n",
    "test_samples  = len(test_dataset)\n",
    "\n",
    "print(f\"Total trainable data is {train_samples}\")\n",
    "print(f\"Data available for validation is {valid_samples}\")\n",
    "print(f\"Data available for test is {test_samples}\")\n"
   ]
  },
  {
   "cell_type": "code",
   "execution_count": 8,
   "id": "31e9b8ee-97e6-410b-bc80-ff96beed534d",
   "metadata": {},
   "outputs": [
    {
     "data": {
      "application/vnd.jupyter.widget-view+json": {
       "model_id": "17b25e1194dd4184a60e78943c849114",
       "version_major": 2,
       "version_minor": 0
      },
      "text/plain": [
       "  0%|          | 0/30 [00:00<?, ?it/s]"
      ]
     },
     "metadata": {},
     "output_type": "display_data"
    },
    {
     "data": {
      "application/vnd.jupyter.widget-view+json": {
       "model_id": "abb429ffacd549b19c1914d41b3117dd",
       "version_major": 2,
       "version_minor": 0
      },
      "text/plain": [
       "  0%|          | 0/9.375 [00:00<?, ?it/s]"
      ]
     },
     "metadata": {},
     "output_type": "display_data"
    },
    {
     "data": {
      "application/vnd.jupyter.widget-view+json": {
       "model_id": "b814f131c6b842ad8ec2b02d1b1835d8",
       "version_major": 2,
       "version_minor": 0
      },
      "text/plain": [
       "  0%|          | 0/5.0 [00:00<?, ?it/s]"
      ]
     },
     "metadata": {},
     "output_type": "display_data"
    },
    {
     "name": "stdout",
     "output_type": "stream",
     "text": [
      "Epoch: 00, Training Loss: 0.5465\n",
      "    Validation Loss: 6.8180\n",
      "New best model saved to: ./trained_models/new_models/keras_model_best_gnn_74.pth\n"
     ]
    },
    {
     "data": {
      "application/vnd.jupyter.widget-view+json": {
       "model_id": "6f9da20e3208412abb8b5e61535d6745",
       "version_major": 2,
       "version_minor": 0
      },
      "text/plain": [
       "  0%|          | 0/9.375 [00:00<?, ?it/s]"
      ]
     },
     "metadata": {},
     "output_type": "display_data"
    },
    {
     "data": {
      "application/vnd.jupyter.widget-view+json": {
       "model_id": "efed57f7378e456397e29e5d0a92b552",
       "version_major": 2,
       "version_minor": 0
      },
      "text/plain": [
       "  0%|          | 0/5.0 [00:00<?, ?it/s]"
      ]
     },
     "metadata": {},
     "output_type": "display_data"
    },
    {
     "name": "stdout",
     "output_type": "stream",
     "text": [
      "Epoch: 01, Training Loss: 0.3116\n",
      "    Validation Loss: 0.9358\n",
      "New best model saved to: ./trained_models/new_models/keras_model_best_gnn_74.pth\n"
     ]
    },
    {
     "data": {
      "application/vnd.jupyter.widget-view+json": {
       "model_id": "d4af76cc8f2f40a08889c272755042f8",
       "version_major": 2,
       "version_minor": 0
      },
      "text/plain": [
       "  0%|          | 0/9.375 [00:00<?, ?it/s]"
      ]
     },
     "metadata": {},
     "output_type": "display_data"
    },
    {
     "data": {
      "application/vnd.jupyter.widget-view+json": {
       "model_id": "a864277df47d45b5b6c5408500b9af69",
       "version_major": 2,
       "version_minor": 0
      },
      "text/plain": [
       "  0%|          | 0/5.0 [00:00<?, ?it/s]"
      ]
     },
     "metadata": {},
     "output_type": "display_data"
    },
    {
     "name": "stdout",
     "output_type": "stream",
     "text": [
      "Epoch: 02, Training Loss: 0.3039\n",
      "    Validation Loss: 1.0315\n",
      "Stable epoch (no improvement)\n"
     ]
    },
    {
     "data": {
      "application/vnd.jupyter.widget-view+json": {
       "model_id": "7afffad3ee5a469c8c3e22f3afdfa0f8",
       "version_major": 2,
       "version_minor": 0
      },
      "text/plain": [
       "  0%|          | 0/9.375 [00:00<?, ?it/s]"
      ]
     },
     "metadata": {},
     "output_type": "display_data"
    },
    {
     "data": {
      "application/vnd.jupyter.widget-view+json": {
       "model_id": "582f803565844f58abad93d49112ecdb",
       "version_major": 2,
       "version_minor": 0
      },
      "text/plain": [
       "  0%|          | 0/5.0 [00:00<?, ?it/s]"
      ]
     },
     "metadata": {},
     "output_type": "display_data"
    },
    {
     "name": "stdout",
     "output_type": "stream",
     "text": [
      "Epoch: 03, Training Loss: 0.2545\n",
      "    Validation Loss: 0.4616\n",
      "New best model saved to: ./trained_models/new_models/keras_model_best_gnn_74.pth\n"
     ]
    },
    {
     "data": {
      "application/vnd.jupyter.widget-view+json": {
       "model_id": "3625fe37dcd241a989a4f713cfc1aad0",
       "version_major": 2,
       "version_minor": 0
      },
      "text/plain": [
       "  0%|          | 0/9.375 [00:00<?, ?it/s]"
      ]
     },
     "metadata": {},
     "output_type": "display_data"
    },
    {
     "data": {
      "application/vnd.jupyter.widget-view+json": {
       "model_id": "69add83a974a4c439713563e30cc3f60",
       "version_major": 2,
       "version_minor": 0
      },
      "text/plain": [
       "  0%|          | 0/5.0 [00:00<?, ?it/s]"
      ]
     },
     "metadata": {},
     "output_type": "display_data"
    },
    {
     "name": "stdout",
     "output_type": "stream",
     "text": [
      "Epoch: 04, Training Loss: 0.2438\n",
      "    Validation Loss: 0.2668\n",
      "New best model saved to: ./trained_models/new_models/keras_model_best_gnn_74.pth\n"
     ]
    },
    {
     "data": {
      "application/vnd.jupyter.widget-view+json": {
       "model_id": "36629cec4bf141cca6acc8ab1f470e92",
       "version_major": 2,
       "version_minor": 0
      },
      "text/plain": [
       "  0%|          | 0/9.375 [00:00<?, ?it/s]"
      ]
     },
     "metadata": {},
     "output_type": "display_data"
    },
    {
     "data": {
      "application/vnd.jupyter.widget-view+json": {
       "model_id": "7f95e360516641b8ae80ebfbc7cb0da7",
       "version_major": 2,
       "version_minor": 0
      },
      "text/plain": [
       "  0%|          | 0/5.0 [00:00<?, ?it/s]"
      ]
     },
     "metadata": {},
     "output_type": "display_data"
    },
    {
     "name": "stdout",
     "output_type": "stream",
     "text": [
      "Epoch: 05, Training Loss: 0.2149\n",
      "    Validation Loss: 0.2932\n",
      "Stable epoch (no improvement)\n"
     ]
    },
    {
     "data": {
      "application/vnd.jupyter.widget-view+json": {
       "model_id": "418a505e0f174af9a8a47322246d7d40",
       "version_major": 2,
       "version_minor": 0
      },
      "text/plain": [
       "  0%|          | 0/9.375 [00:00<?, ?it/s]"
      ]
     },
     "metadata": {},
     "output_type": "display_data"
    },
    {
     "data": {
      "application/vnd.jupyter.widget-view+json": {
       "model_id": "7af3d5c8a6954b6688aeb59ff7a6b8a7",
       "version_major": 2,
       "version_minor": 0
      },
      "text/plain": [
       "  0%|          | 0/5.0 [00:00<?, ?it/s]"
      ]
     },
     "metadata": {},
     "output_type": "display_data"
    },
    {
     "name": "stdout",
     "output_type": "stream",
     "text": [
      "Epoch: 06, Training Loss: 0.2129\n",
      "    Validation Loss: 0.3277\n",
      "Stable epoch (no improvement)\n"
     ]
    },
    {
     "data": {
      "application/vnd.jupyter.widget-view+json": {
       "model_id": "635aa23f460b445ba4062519e6474220",
       "version_major": 2,
       "version_minor": 0
      },
      "text/plain": [
       "  0%|          | 0/9.375 [00:00<?, ?it/s]"
      ]
     },
     "metadata": {},
     "output_type": "display_data"
    },
    {
     "data": {
      "application/vnd.jupyter.widget-view+json": {
       "model_id": "162854d85ad24807bd4949cab485f19e",
       "version_major": 2,
       "version_minor": 0
      },
      "text/plain": [
       "  0%|          | 0/5.0 [00:00<?, ?it/s]"
      ]
     },
     "metadata": {},
     "output_type": "display_data"
    },
    {
     "name": "stdout",
     "output_type": "stream",
     "text": [
      "Epoch: 07, Training Loss: 0.1725\n",
      "    Validation Loss: 0.5486\n",
      "Stable epoch (no improvement)\n"
     ]
    },
    {
     "data": {
      "application/vnd.jupyter.widget-view+json": {
       "model_id": "c7599f7d519b48c393b26ebbe2bbdbaa",
       "version_major": 2,
       "version_minor": 0
      },
      "text/plain": [
       "  0%|          | 0/9.375 [00:00<?, ?it/s]"
      ]
     },
     "metadata": {},
     "output_type": "display_data"
    },
    {
     "data": {
      "application/vnd.jupyter.widget-view+json": {
       "model_id": "764e5eed691c41609541ec15460c4f65",
       "version_major": 2,
       "version_minor": 0
      },
      "text/plain": [
       "  0%|          | 0/5.0 [00:00<?, ?it/s]"
      ]
     },
     "metadata": {},
     "output_type": "display_data"
    },
    {
     "name": "stdout",
     "output_type": "stream",
     "text": [
      "Epoch: 08, Training Loss: 0.3017\n",
      "    Validation Loss: 0.3436\n",
      "Stable epoch (no improvement)\n"
     ]
    },
    {
     "data": {
      "application/vnd.jupyter.widget-view+json": {
       "model_id": "22ad8992be8f40488d120ceb6b5b0c48",
       "version_major": 2,
       "version_minor": 0
      },
      "text/plain": [
       "  0%|          | 0/9.375 [00:00<?, ?it/s]"
      ]
     },
     "metadata": {},
     "output_type": "display_data"
    },
    {
     "data": {
      "application/vnd.jupyter.widget-view+json": {
       "model_id": "50eda11c635b4c31b65d6a41099e8f8b",
       "version_major": 2,
       "version_minor": 0
      },
      "text/plain": [
       "  0%|          | 0/5.0 [00:00<?, ?it/s]"
      ]
     },
     "metadata": {},
     "output_type": "display_data"
    },
    {
     "name": "stdout",
     "output_type": "stream",
     "text": [
      "Epoch: 09, Training Loss: 0.1592\n",
      "    Validation Loss: 0.5398\n",
      "Stable epoch (no improvement)\n",
      "Early stopping after 5 stable epochs\n"
     ]
    }
   ],
   "source": [
    "\n",
    "# ======================================================================================\n",
    "# Training Loop with Early Stopping and Model Checkpointing\n",
    "# ======================================================================================\n",
    "\n",
    "n_epochs = 30               # Max number of training epochs\n",
    "stable_epochs = 0           # Counts how many epochs validation has not improved\n",
    "best_valid_loss = 99999     # Initialize best loss to a very high value\n",
    "patience = 5                # Stop training if no improvement after `patience` epochs\n",
    "\n",
    "# Progress bar across epochs\n",
    "t = tqdm(range(0, n_epochs))\n",
    "\n",
    "for epoch in t:\n",
    "    # Train on full training set\n",
    "    loss = train(model, optimizer, train_loader, train_samples, batch_size, \n",
    "                 leave=bool(epoch == n_epochs - 1))\n",
    "\n",
    "    # Validate on validation set\n",
    "    valid_loss = test(model, valid_loader, valid_samples, batch_size, \n",
    "                      leave=bool(epoch == n_epochs - 1))\n",
    "\n",
    "    # Logging\n",
    "    print(f'Epoch: {epoch:02d}, Training Loss: {loss:.4f}')\n",
    "    print(f'    Validation Loss: {valid_loss:.4f}')\n",
    "\n",
    "    # Check if validation loss improved\n",
    "    if valid_loss < best_valid_loss:\n",
    "        best_valid_loss = valid_loss\n",
    "\n",
    "        # Save the best model\n",
    "        modpath = osp.join(f'./trained_models/new_models/keras_model_best_gnn_{nfeatures}.pth')\n",
    "        print(f'New best model saved to: {modpath}')\n",
    "        torch.save(model.state_dict(), modpath)\n",
    "\n",
    "        stable_epochs = 0  # Reset counter\n",
    "    else:\n",
    "        print('Stable epoch (no improvement)')\n",
    "        stable_epochs += 1\n",
    "\n",
    "    # Stop training if validation has not improved for `patience` epochs\n",
    "    if stable_epochs >= patience:\n",
    "        print(f'Early stopping after {patience} stable epochs')\n",
    "        break\n",
    "\n"
   ]
  },
  {
   "cell_type": "code",
   "execution_count": 9,
   "id": "51609086-4783-4ffc-8e37-f1863ce63e47",
   "metadata": {},
   "outputs": [
    {
     "data": {
      "application/vnd.jupyter.widget-view+json": {
       "model_id": "9cfa497485fa4f34a99fa854ef396623",
       "version_major": 2,
       "version_minor": 0
      },
      "text/plain": [
       "  0%|          | 0/4.9375 [00:00<?, ?it/s]"
      ]
     },
     "metadata": {},
     "output_type": "display_data"
    }
   ],
   "source": [
    "# ======================================================================================\n",
    "# Model Evaluation on Test Set\n",
    "# ======================================================================================\n",
    "\n",
    "model.eval()  # Set model to evaluation mode (disables dropout, etc.)\n",
    "\n",
    "# tqdm for live batch progress\n",
    "t = tqdm(enumerate(test_loader), total=test_samples / batch_size)\n",
    "\n",
    "# Empty lists to store results from each batch\n",
    "y_test = []       # True labels\n",
    "y_predict = []    # Model predictions (softmax probabilities)\n",
    "spec_test = []    # Spectator features (e.g., mass, pT)\n",
    "\n",
    "# Loop over test batches\n",
    "for i, data in t:\n",
    "    data = data.to(device)  # Move to GPU or CPU\n",
    "\n",
    "    # Forward pass: get raw output logits from the model\n",
    "    batch_output = model(data.x, data.edge_index, data.batch)\n",
    "\n",
    "    # Apply softmax to convert logits → probabilities\n",
    "    probs = F.softmax(batch_output, dim=1)  # shape: [batch_size, 2]\n",
    "\n",
    "    # Detach from computation graph and move to CPU for analysis\n",
    "    y_predict.append(probs.detach().cpu().numpy())\n",
    "    y_test.append(data.y.cpu().numpy())     # True labels are one-hot\n",
    "    spec_test.append(data.u.cpu().numpy())  # Spectator variables (like jet mass, pT)\n",
    "\n",
    "# ======================================================================================\n",
    "# Stack all batches into single numpy arrays\n",
    "# ======================================================================================\n",
    "y_test = np.concatenate(y_test)         # shape: [N_events, 2]\n",
    "y_predict = np.concatenate(y_predict)   # shape: [N_events, 2]\n",
    "spec_test = np.concatenate(spec_test)   # shape: [N_events, N_spec_features]\n"
   ]
  },
  {
   "cell_type": "code",
   "execution_count": 10,
   "id": "0fd5f628-d42c-4fde-a026-1312b0ca7ab0",
   "metadata": {},
   "outputs": [
    {
     "data": {
      "image/png": "[encoded data removed]",
      "text/plain": [
       "<Figure size 800x600 with 1 Axes>"
      ]
     },
     "metadata": {},
     "output_type": "display_data"
    }
   ],
   "source": [
    "# Calculate ROC and AUC\n",
    "fpr_gnn, tpr_gnn, threshold_gnn = roc_curve(y_test[:, 1], y_predict[:, 1])\n",
    "auc_value = auc(fpr_gnn, tpr_gnn) * 100\n",
    "\n",
    "# Plot ROC curve\n",
    "plt.figure(figsize=(8, 6))\n",
    "plt.plot(tpr_gnn, fpr_gnn, lw=2.5, label=\"GNN, AUC = {:.1f}%\".format(auc_value))\n",
    "plt.xlabel(r'True Positive Rate')\n",
    "plt.ylabel(r'False Positive Rate')\n",
    "plt.xlim(0, 1)\n",
    "plt.ylim(0.001, 1)\n",
    "plt.yscale(\"log\")\n",
    "plt.grid(True, which='both', linestyle='--', linewidth=0.5)\n",
    "plt.legend(loc='upper left', fontsize=12)\n",
    "plt.title('GNN ROC Curve', fontsize=14)\n",
    "\n",
    "# Add mass and pT cut box\n",
    "cut_text = (\n",
    "    r\"Selection cuts:\" + \"\\n\"\n",
    "    + r\"$40 < m < 200$ GeV\" + \"\\n\"\n",
    "    + r\"$300 < p_T < 2000$ GeV\"\n",
    ")\n",
    "plt.gca().text(\n",
    "    0.65, 0.05, cut_text,\n",
    "    transform=plt.gca().transAxes,\n",
    "    fontsize=11,\n",
    "    verticalalignment='bottom',\n",
    "    bbox=dict(boxstyle='round', facecolor='whitesmoke', edgecolor='gray')\n",
    ")\n",
    "\n",
    "plt.tight_layout()\n",
    "plt.show()\n"
   ]
  },
  {
   "cell_type": "code",
   "execution_count": null,
   "id": "090f0d9a-f0ec-4d91-a9dd-987a0d918976",
   "metadata": {},
   "outputs": [],
   "source": []
  }
 ],
 "metadata": {
  "kernelspec": {
   "display_name": "Python 3 (ipykernel)",
   "language": "python",
   "name": "python3"
  },
  "language_info": {
   "codemirror_mode": {
    "name": "ipython",
    "version": 3
   },
   "file_extension": ".py",
   "mimetype": "text/x-python",
   "name": "python",
   "nbconvert_exporter": "python",
   "pygments_lexer": "ipython3",
   "version": "3.11.9"
  }
 },
 "nbformat": 4,
 "nbformat_minor": 5
}
