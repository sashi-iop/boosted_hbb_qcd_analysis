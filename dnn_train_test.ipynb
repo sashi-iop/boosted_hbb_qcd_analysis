{
 "cells": [
  {
   "cell_type": "markdown",
   "id": "e0a20645-78e7-4b13-bad6-53cdef08d0d2",
   "metadata": {},
   "source": [
    "# Deep Neural Network (DNN) for Jet Classification\n",
    "\n",
    "This section implements a Deep Neural Network (DNN) using dense (fully connected) layers to classify jets as either QCD background or Higgs boson signal (H → bb̄). The input features are handcrafted jet-level variables, including summary statistics derived from per-constituent observables (e.g., mean track p<sub>T</sub>). Each jet is treated as a fixed-size feature vector by aggregating constituent information.\n",
    "\n",
    "The DNN architecture includes:\n",
    "\n",
    "Batch normalization for stable training\n",
    "\n",
    "Dropout for regularization\n",
    "\n",
    "ReLU activations in hidden layers\n",
    "\n",
    "A final softmax layer for binary classification\n",
    "\n",
    "Jets used in training are filtered with:\n",
    "\n",
    "Mass cut: 40 GeV < M<sub>sd</sub> < 200 GeV\n",
    "\n",
    "p<sub>T</sub> cut: 300 GeV < p<sub>T</sub> < 2000 GeV\n",
    "\n",
    "Model performance is visualized using the ROC curve and quantified via the AUC metric."
   ]
  },
  {
   "cell_type": "code",
   "execution_count": 1,
   "id": "aa34a5b9-22e7-4b8b-9f3b-b28b3b41c02a",
   "metadata": {},
   "outputs": [
    {
     "name": "stderr",
     "output_type": "stream",
     "text": [
      "2025-07-11 15:56:31.665907: I tensorflow/core/platform/cpu_feature_guard.cc:210] This TensorFlow binary is optimized to use available CPU instructions in performance-critical operations.\n",
      "To enable the following instructions: AVX2 FMA, in other operations, rebuild TensorFlow with the appropriate compiler flags.\n"
     ]
    }
   ],
   "source": [
    "# ============================================================\n",
    "# Import required libraries and tools for data handling\n",
    "# ============================================================\n",
    "\n",
    "import fsspec_xrootd  # Enables xrootd file system access (e.g., remote ROOT files)\n",
    "import uproot         # Reads ROOT files in Python\n",
    "import awkward as ak  # Efficient handling of jagged arrays (used in HEP)\n",
    "import numpy as np\n",
    "\n",
    "# Custom utility functions for jet processing, image making, etc.\n",
    "import utilities.utils as utils\n",
    "\n",
    "# Load configuration variables (features, labels, etc.)\n",
    "import yaml\n",
    "\n",
    "# ============================================================\n",
    "# TensorFlow/Keras setup\n",
    "# ============================================================\n",
    "\n",
    "# Force TensorFlow to run on CPU only\n",
    "import os\n",
    "os.environ[\"CUDA_VISIBLE_DEVICES\"] = \"-1\"\n",
    "\n",
    "import tensorflow as tf\n",
    "from tensorflow.keras.models import Model, load_model\n",
    "from tensorflow.keras.layers import Input, Dense, BatchNormalization, Dropout\n",
    "from tensorflow.keras.callbacks import (\n",
    "    ModelCheckpoint, EarlyStopping, ReduceLROnPlateau\n",
    ")\n",
    "\n",
    "# ============================================================\n",
    "# Metrics and plotting\n",
    "# ============================================================\n",
    "\n",
    "from sklearn.metrics import accuracy_score, roc_curve, auc\n",
    "import matplotlib.pyplot as plt\n",
    "import mplhep as hep\n",
    "\n",
    "# Use CMS-style plotting\n",
    "plt.style.use(hep.style.ROOT)\n"
   ]
  },
  {
   "cell_type": "code",
   "execution_count": 2,
   "id": "666cbe52-3558-460f-91ff-185ce45b113e",
   "metadata": {},
   "outputs": [],
   "source": [
    "# Load the definitions\n",
    "with open('./utilities/definitions_bdt_dnn.yml', 'r') as file:\n",
    "    definitions = yaml.load(file, Loader = yaml.FullLoader)\n",
    "\n",
    "features = definitions['features']\n",
    "spectators = definitions['spectators']\n",
    "labels = definitions['labels']\n",
    "\n",
    "nfeatures = definitions['nfeatures']\n",
    "nspectators = definitions['nspectators']\n",
    "nlabels = definitions['nlabels']"
   ]
  },
  {
   "cell_type": "code",
   "execution_count": 4,
   "id": "c5254093-0d93-4241-8376-924c9f183173",
   "metadata": {},
   "outputs": [],
   "source": [
    "# ============================================================\n",
    "# Set file paths for training and testing\n",
    "# ============================================================\n",
    "\n",
    "train_file_path = '/eos/user/s/sasahoo/root_data/ntuple_merged_10.root'  # Path to training ROOT file\n",
    "test_file_path  = '/eos/user/s/sasahoo/root_data/ntuple_merged_0.root'  # Path to testing ROOT file\n",
    "\n",
    "# ============================================================\n",
    "# Load training data: features, labels, spectators\n",
    "# ============================================================\n",
    "\n",
    "feature_array, label_array, spec_array = utils.get_features_labels(\n",
    "    train_file_path,\n",
    "    features=features,         # List of input feature names\n",
    "    spectators=spectators,     # List of spectator variables (e.g., mass, pT)\n",
    "    labels=labels,             # List of target labels (e.g., Hbb, QCD)\n",
    "    remove_mass_pt_window=True, # Apply pT and mass window cut\n",
    "    entry_stop=20000        # Max number of events to read\n",
    ")\n",
    "\n",
    "# ============================================================\n",
    "# Load testing data: features, labels, spectators\n",
    "# ============================================================\n",
    "\n",
    "feature_array_test, label_array_test, spectator_array_test = utils.get_features_labels(\n",
    "    test_file_path,\n",
    "    features=features,\n",
    "    labels=labels,\n",
    "    spectators=spectators,\n",
    "    remove_mass_pt_window=True,\n",
    "    entry_stop=5000          # Fewer entries for evaluation\n",
    ")\n"
   ]
  },
  {
   "cell_type": "code",
   "execution_count": 5,
   "id": "1e6091bd-870b-4fcf-83e9-f9b3963b7882",
   "metadata": {},
   "outputs": [],
   "source": [
    "# ============================================================\n",
    "# Flatten nested/non-float features in training array\n",
    "# ============================================================\n",
    "\n",
    "for j in range(len(feature_array)):                     # Loop over each event\n",
    "    for i in range(len(feature_array[j, :])):           # Loop over each feature\n",
    "        if not isinstance(feature_array[j, i], float):  # If entry is not scalar float\n",
    "            feature_array[j, i] = np.mean(feature_array[j, i])  # Replace with mean value\n",
    "\n",
    "# ============================================================\n",
    "# Flatten nested/non-float features in testing array\n",
    "# ============================================================\n",
    "\n",
    "for j in range(len(feature_array_test)):                        \n",
    "    for i in range(len(feature_array_test[j, :])):              \n",
    "        if not isinstance(feature_array_test[j, i], float):     \n",
    "            feature_array_test[j, i] = np.mean(feature_array_test[j, i])  \n",
    "\n",
    "# ============================================================\n",
    "# Convert final arrays to float32 type\n",
    "# ============================================================\n",
    "\n",
    "feature_array = feature_array.astype(np.float32)\n",
    "feature_array_test = feature_array_test.astype(np.float32)\n"
   ]
  },
  {
   "cell_type": "code",
   "execution_count": 6,
   "id": "ba08655a-9d39-4e83-9e4e-53122d5d8373",
   "metadata": {},
   "outputs": [
    {
     "data": {
      "text/html": [
       "<pre style=\"white-space:pre;overflow-x:auto;line-height:normal;font-family:Menlo,'DejaVu Sans Mono',consolas,'Courier New',monospace\"><span style=\"font-weight: bold\">Model: \"functional\"</span>\n",
       "</pre>\n"
      ],
      "text/plain": [
       "\u001b[1mModel: \"functional\"\u001b[0m\n"
      ]
     },
     "metadata": {},
     "output_type": "display_data"
    },
    {
     "data": {
      "text/html": [
       "<pre style=\"white-space:pre;overflow-x:auto;line-height:normal;font-family:Menlo,'DejaVu Sans Mono',consolas,'Courier New',monospace\">┏━━━━━━━━━━━━━━━━━━━━━━━━━━━━━━━━━┳━━━━━━━━━━━━━━━━━━━━━━━━┳━━━━━━━━━━━━━━━┓\n",
       "┃<span style=\"font-weight: bold\"> Layer (type)                    </span>┃<span style=\"font-weight: bold\"> Output Shape           </span>┃<span style=\"font-weight: bold\">       Param # </span>┃\n",
       "┡━━━━━━━━━━━━━━━━━━━━━━━━━━━━━━━━━╇━━━━━━━━━━━━━━━━━━━━━━━━╇━━━━━━━━━━━━━━━┩\n",
       "│ input (<span style=\"color: #0087ff; text-decoration-color: #0087ff\">InputLayer</span>)              │ (<span style=\"color: #00d7ff; text-decoration-color: #00d7ff\">None</span>, <span style=\"color: #00af00; text-decoration-color: #00af00\">42</span>)             │             <span style=\"color: #00af00; text-decoration-color: #00af00\">0</span> │\n",
       "├─────────────────────────────────┼────────────────────────┼───────────────┤\n",
       "│ Bn_1 (<span style=\"color: #0087ff; text-decoration-color: #0087ff\">BatchNormalization</span>)       │ (<span style=\"color: #00d7ff; text-decoration-color: #00d7ff\">None</span>, <span style=\"color: #00af00; text-decoration-color: #00af00\">42</span>)             │           <span style=\"color: #00af00; text-decoration-color: #00af00\">168</span> │\n",
       "├─────────────────────────────────┼────────────────────────┼───────────────┤\n",
       "│ dropout (<span style=\"color: #0087ff; text-decoration-color: #0087ff\">Dropout</span>)               │ (<span style=\"color: #00d7ff; text-decoration-color: #00d7ff\">None</span>, <span style=\"color: #00af00; text-decoration-color: #00af00\">42</span>)             │             <span style=\"color: #00af00; text-decoration-color: #00af00\">0</span> │\n",
       "├─────────────────────────────────┼────────────────────────┼───────────────┤\n",
       "│ dense_1 (<span style=\"color: #0087ff; text-decoration-color: #0087ff\">Dense</span>)                 │ (<span style=\"color: #00d7ff; text-decoration-color: #00d7ff\">None</span>, <span style=\"color: #00af00; text-decoration-color: #00af00\">128</span>)            │         <span style=\"color: #00af00; text-decoration-color: #00af00\">5,504</span> │\n",
       "├─────────────────────────────────┼────────────────────────┼───────────────┤\n",
       "│ Bn_2 (<span style=\"color: #0087ff; text-decoration-color: #0087ff\">BatchNormalization</span>)       │ (<span style=\"color: #00d7ff; text-decoration-color: #00d7ff\">None</span>, <span style=\"color: #00af00; text-decoration-color: #00af00\">128</span>)            │           <span style=\"color: #00af00; text-decoration-color: #00af00\">512</span> │\n",
       "├─────────────────────────────────┼────────────────────────┼───────────────┤\n",
       "│ dropout_1 (<span style=\"color: #0087ff; text-decoration-color: #0087ff\">Dropout</span>)             │ (<span style=\"color: #00d7ff; text-decoration-color: #00d7ff\">None</span>, <span style=\"color: #00af00; text-decoration-color: #00af00\">128</span>)            │             <span style=\"color: #00af00; text-decoration-color: #00af00\">0</span> │\n",
       "├─────────────────────────────────┼────────────────────────┼───────────────┤\n",
       "│ dense_2 (<span style=\"color: #0087ff; text-decoration-color: #0087ff\">Dense</span>)                 │ (<span style=\"color: #00d7ff; text-decoration-color: #00d7ff\">None</span>, <span style=\"color: #00af00; text-decoration-color: #00af00\">64</span>)             │         <span style=\"color: #00af00; text-decoration-color: #00af00\">8,256</span> │\n",
       "├─────────────────────────────────┼────────────────────────┼───────────────┤\n",
       "│ Bn_3 (<span style=\"color: #0087ff; text-decoration-color: #0087ff\">BatchNormalization</span>)       │ (<span style=\"color: #00d7ff; text-decoration-color: #00d7ff\">None</span>, <span style=\"color: #00af00; text-decoration-color: #00af00\">64</span>)             │           <span style=\"color: #00af00; text-decoration-color: #00af00\">256</span> │\n",
       "├─────────────────────────────────┼────────────────────────┼───────────────┤\n",
       "│ dense_3 (<span style=\"color: #0087ff; text-decoration-color: #0087ff\">Dense</span>)                 │ (<span style=\"color: #00d7ff; text-decoration-color: #00d7ff\">None</span>, <span style=\"color: #00af00; text-decoration-color: #00af00\">64</span>)             │         <span style=\"color: #00af00; text-decoration-color: #00af00\">4,160</span> │\n",
       "├─────────────────────────────────┼────────────────────────┼───────────────┤\n",
       "│ dropout_2 (<span style=\"color: #0087ff; text-decoration-color: #0087ff\">Dropout</span>)             │ (<span style=\"color: #00d7ff; text-decoration-color: #00d7ff\">None</span>, <span style=\"color: #00af00; text-decoration-color: #00af00\">64</span>)             │             <span style=\"color: #00af00; text-decoration-color: #00af00\">0</span> │\n",
       "├─────────────────────────────────┼────────────────────────┼───────────────┤\n",
       "│ output (<span style=\"color: #0087ff; text-decoration-color: #0087ff\">Dense</span>)                  │ (<span style=\"color: #00d7ff; text-decoration-color: #00d7ff\">None</span>, <span style=\"color: #00af00; text-decoration-color: #00af00\">2</span>)              │           <span style=\"color: #00af00; text-decoration-color: #00af00\">130</span> │\n",
       "└─────────────────────────────────┴────────────────────────┴───────────────┘\n",
       "</pre>\n"
      ],
      "text/plain": [
       "┏━━━━━━━━━━━━━━━━━━━━━━━━━━━━━━━━━┳━━━━━━━━━━━━━━━━━━━━━━━━┳━━━━━━━━━━━━━━━┓\n",
       "┃\u001b[1m \u001b[0m\u001b[1mLayer (type)                   \u001b[0m\u001b[1m \u001b[0m┃\u001b[1m \u001b[0m\u001b[1mOutput Shape          \u001b[0m\u001b[1m \u001b[0m┃\u001b[1m \u001b[0m\u001b[1m      Param #\u001b[0m\u001b[1m \u001b[0m┃\n",
       "┡━━━━━━━━━━━━━━━━━━━━━━━━━━━━━━━━━╇━━━━━━━━━━━━━━━━━━━━━━━━╇━━━━━━━━━━━━━━━┩\n",
       "│ input (\u001b[38;5;33mInputLayer\u001b[0m)              │ (\u001b[38;5;45mNone\u001b[0m, \u001b[38;5;34m42\u001b[0m)             │             \u001b[38;5;34m0\u001b[0m │\n",
       "├─────────────────────────────────┼────────────────────────┼───────────────┤\n",
       "│ Bn_1 (\u001b[38;5;33mBatchNormalization\u001b[0m)       │ (\u001b[38;5;45mNone\u001b[0m, \u001b[38;5;34m42\u001b[0m)             │           \u001b[38;5;34m168\u001b[0m │\n",
       "├─────────────────────────────────┼────────────────────────┼───────────────┤\n",
       "│ dropout (\u001b[38;5;33mDropout\u001b[0m)               │ (\u001b[38;5;45mNone\u001b[0m, \u001b[38;5;34m42\u001b[0m)             │             \u001b[38;5;34m0\u001b[0m │\n",
       "├─────────────────────────────────┼────────────────────────┼───────────────┤\n",
       "│ dense_1 (\u001b[38;5;33mDense\u001b[0m)                 │ (\u001b[38;5;45mNone\u001b[0m, \u001b[38;5;34m128\u001b[0m)            │         \u001b[38;5;34m5,504\u001b[0m │\n",
       "├─────────────────────────────────┼────────────────────────┼───────────────┤\n",
       "│ Bn_2 (\u001b[38;5;33mBatchNormalization\u001b[0m)       │ (\u001b[38;5;45mNone\u001b[0m, \u001b[38;5;34m128\u001b[0m)            │           \u001b[38;5;34m512\u001b[0m │\n",
       "├─────────────────────────────────┼────────────────────────┼───────────────┤\n",
       "│ dropout_1 (\u001b[38;5;33mDropout\u001b[0m)             │ (\u001b[38;5;45mNone\u001b[0m, \u001b[38;5;34m128\u001b[0m)            │             \u001b[38;5;34m0\u001b[0m │\n",
       "├─────────────────────────────────┼────────────────────────┼───────────────┤\n",
       "│ dense_2 (\u001b[38;5;33mDense\u001b[0m)                 │ (\u001b[38;5;45mNone\u001b[0m, \u001b[38;5;34m64\u001b[0m)             │         \u001b[38;5;34m8,256\u001b[0m │\n",
       "├─────────────────────────────────┼────────────────────────┼───────────────┤\n",
       "│ Bn_3 (\u001b[38;5;33mBatchNormalization\u001b[0m)       │ (\u001b[38;5;45mNone\u001b[0m, \u001b[38;5;34m64\u001b[0m)             │           \u001b[38;5;34m256\u001b[0m │\n",
       "├─────────────────────────────────┼────────────────────────┼───────────────┤\n",
       "│ dense_3 (\u001b[38;5;33mDense\u001b[0m)                 │ (\u001b[38;5;45mNone\u001b[0m, \u001b[38;5;34m64\u001b[0m)             │         \u001b[38;5;34m4,160\u001b[0m │\n",
       "├─────────────────────────────────┼────────────────────────┼───────────────┤\n",
       "│ dropout_2 (\u001b[38;5;33mDropout\u001b[0m)             │ (\u001b[38;5;45mNone\u001b[0m, \u001b[38;5;34m64\u001b[0m)             │             \u001b[38;5;34m0\u001b[0m │\n",
       "├─────────────────────────────────┼────────────────────────┼───────────────┤\n",
       "│ output (\u001b[38;5;33mDense\u001b[0m)                  │ (\u001b[38;5;45mNone\u001b[0m, \u001b[38;5;34m2\u001b[0m)              │           \u001b[38;5;34m130\u001b[0m │\n",
       "└─────────────────────────────────┴────────────────────────┴───────────────┘\n"
      ]
     },
     "metadata": {},
     "output_type": "display_data"
    },
    {
     "data": {
      "text/html": [
       "<pre style=\"white-space:pre;overflow-x:auto;line-height:normal;font-family:Menlo,'DejaVu Sans Mono',consolas,'Courier New',monospace\"><span style=\"font-weight: bold\"> Total params: </span><span style=\"color: #00af00; text-decoration-color: #00af00\">18,986</span> (74.16 KB)\n",
       "</pre>\n"
      ],
      "text/plain": [
       "\u001b[1m Total params: \u001b[0m\u001b[38;5;34m18,986\u001b[0m (74.16 KB)\n"
      ]
     },
     "metadata": {},
     "output_type": "display_data"
    },
    {
     "data": {
      "text/html": [
       "<pre style=\"white-space:pre;overflow-x:auto;line-height:normal;font-family:Menlo,'DejaVu Sans Mono',consolas,'Courier New',monospace\"><span style=\"font-weight: bold\"> Trainable params: </span><span style=\"color: #00af00; text-decoration-color: #00af00\">18,518</span> (72.34 KB)\n",
       "</pre>\n"
      ],
      "text/plain": [
       "\u001b[1m Trainable params: \u001b[0m\u001b[38;5;34m18,518\u001b[0m (72.34 KB)\n"
      ]
     },
     "metadata": {},
     "output_type": "display_data"
    },
    {
     "data": {
      "text/html": [
       "<pre style=\"white-space:pre;overflow-x:auto;line-height:normal;font-family:Menlo,'DejaVu Sans Mono',consolas,'Courier New',monospace\"><span style=\"font-weight: bold\"> Non-trainable params: </span><span style=\"color: #00af00; text-decoration-color: #00af00\">468</span> (1.83 KB)\n",
       "</pre>\n"
      ],
      "text/plain": [
       "\u001b[1m Non-trainable params: \u001b[0m\u001b[38;5;34m468\u001b[0m (1.83 KB)\n"
      ]
     },
     "metadata": {},
     "output_type": "display_data"
    }
   ],
   "source": [
    "# ============================================================\n",
    "# DNN model for jet classification using Keras Functional API\n",
    "# ============================================================\n",
    "\n",
    "# Input layer: accepts flat feature vector of shape (nfeatures,)\n",
    "inputs = Input(shape=(nfeatures,), name='input')\n",
    "\n",
    "# Batch normalization to stabilize training\n",
    "x = BatchNormalization(name='Bn_1')(inputs)\n",
    "\n",
    "# Dropout for regularization (prevent overfitting)\n",
    "x = Dropout(0.2)(x)\n",
    "\n",
    "# First dense (fully connected) layer with ReLU activation\n",
    "x = Dense(128, name='dense_1', activation='relu')(x)\n",
    "\n",
    "# Second batch normalization layer\n",
    "x = BatchNormalization(name='Bn_2')(x)\n",
    "\n",
    "# Dropout again\n",
    "x = Dropout(0.2)(x)\n",
    "\n",
    "# Second dense layer\n",
    "x = Dense(64, name='dense_2', activation='relu')(x)\n",
    "\n",
    "# Third batch normalization layer\n",
    "x = BatchNormalization(name='Bn_3')(x)\n",
    "\n",
    "# Third dense layer\n",
    "x = Dense(64, name='dense_3', activation='relu')(x)\n",
    "\n",
    "# Final dropout\n",
    "x = Dropout(0.2)(x)\n",
    "\n",
    "# Output layer: softmax for multi-class classification (nlabels = number of classes)\n",
    "outputs = Dense(nlabels, name='output', activation='softmax')(x)\n",
    "\n",
    "# Build the model\n",
    "dnn_model = Model(inputs=inputs, outputs=outputs)\n",
    "\n",
    "# Compile the model with Adam optimizer and categorical cross-entropy loss\n",
    "dnn_model.compile(\n",
    "    optimizer='adam',\n",
    "    loss='categorical_crossentropy',\n",
    "    metrics=['accuracy']\n",
    ")\n",
    "\n",
    "# Print model summary\n",
    "dnn_model.summary()\n"
   ]
  },
  {
   "cell_type": "code",
   "execution_count": 7,
   "id": "5ed6a854-ee31-4d8e-89a0-45f764196691",
   "metadata": {},
   "outputs": [],
   "source": [
    "# ============================================================\n",
    "# Define callbacks to monitor training and improve performance\n",
    "# ============================================================\n",
    "\n",
    "# Stop training if validation loss doesn't improve for 20 epochs\n",
    "early_stopping = EarlyStopping(\n",
    "    monitor='val_loss',     # Metric to monitor\n",
    "    patience=20             # Number of epochs to wait before stopping\n",
    ")\n",
    "\n",
    "# Reduce learning rate by a factor of 0.5 if val_loss plateaus for 5 epochs\n",
    "reduce_lr = ReduceLROnPlateau(\n",
    "    patience=5,             # Wait 5 epochs without improvement\n",
    "    factor=0.5              # Reduce LR by half\n",
    ")\n",
    "\n",
    "# Save the best model based on validation loss\n",
    "model_checkpoint = ModelCheckpoint(\n",
    "    './trained_models/new_models/keras_model_best_dnn.keras',  # Path to save the model\n",
    "    monitor='val_loss',         # Monitor validation loss\n",
    "    save_best_only=True,        # Save only the best model\n",
    "    save_weights_only=False     # Save full model (not just weights)\n",
    ")\n",
    "\n",
    "# Group all callbacks\n",
    "callbacks = [early_stopping, model_checkpoint, reduce_lr]\n",
    "\n",
    "# ============================================================\n",
    "# Train the DNN model\n",
    "# ============================================================\n",
    "\n",
    "history = dnn_model.fit(\n",
    "    feature_array,            # Input features (shape: [n_samples, nfeatures])\n",
    "    label_array,              # Target labels (one-hot encoded)\n",
    "    batch_size=96,            # Mini-batch size\n",
    "    epochs=100,               # Maximum number of epochs\n",
    "    validation_split=0.15,    # Reserve 15% of data for validation\n",
    "    shuffle=False,            # Do not shuffle data (preserve ordering)\n",
    "    callbacks=callbacks,      # Use callbacks defined above\n",
    "    verbose=0                 # Suppress training output (set to 1 or 2 to see logs)\n",
    ")\n",
    "\n",
    "# ============================================================\n",
    "# Load the best model based on validation loss\n",
    "# ============================================================\n",
    "\n",
    "dnn_model = load_model('./trained_models/new_models/keras_model_best_dnn.keras')\n"
   ]
  },
  {
   "cell_type": "code",
   "execution_count": 8,
   "id": "df9abe8f-bfd0-4830-9619-43f22595b57a",
   "metadata": {},
   "outputs": [
    {
     "data": {
      "image/png": "[encoded data removed]",
      "text/plain": [
       "<Figure size 432x288 with 1 Axes>"
      ]
     },
     "metadata": {
      "needs_background": "light"
     },
     "output_type": "display_data"
    }
   ],
   "source": [
    "# Loss per epoch plot\n",
    "plt.plot(history.history['loss'], label = 'loss')\n",
    "plt.plot(history.history['val_loss'], label = 'val_loss')\n",
    "plt.xlabel('Epoch')\n",
    "plt.ylabel(\"Loss\")\n",
    "plt.legend()\n",
    "plt.grid()\n",
    "plt.title('Training(DNN) loss in each epoch')\n",
    "plt.show()"
   ]
  },
  {
   "cell_type": "code",
   "execution_count": 9,
   "id": "888616be-d7e7-4d54-b033-3f70ab0e4653",
   "metadata": {},
   "outputs": [
    {
     "name": "stdout",
     "output_type": "stream",
     "text": [
      "\u001b[1m50/50\u001b[0m \u001b[32m━━━━━━━━━━━━━━━━━━━━\u001b[0m\u001b[37m\u001b[0m \u001b[1m0s\u001b[0m 3ms/step\n",
      "By using the DNN classifier we obtain an accuracy of 88.49%\n"
     ]
    }
   ],
   "source": [
    "# ============================================================\n",
    "# Predict class probabilities on the test dataset\n",
    "# ============================================================\n",
    "predict_array_dnn = dnn_model.predict(feature_array_test)  # Shape: (n_samples, nlabels)\n",
    "\n",
    "# ============================================================\n",
    "# Convert softmax outputs to one-hot encoded class predictions\n",
    "# ============================================================\n",
    "def convert(data):\n",
    "    \"\"\"\n",
    "    Convert predicted probabilities to one-hot encoded predictions.\n",
    "    If prob(class 0) > prob(class 1) → [1, 0]\n",
    "    Else → [0, 1]\n",
    "    \"\"\"\n",
    "    conv_data = []\n",
    "    for arr in data:\n",
    "        if arr[0] > arr[1]:\n",
    "            conv_data.append([1, 0])\n",
    "        else:\n",
    "            conv_data.append([0, 1])\n",
    "    return np.array(conv_data)\n",
    "\n",
    "# Apply conversion function to model predictions\n",
    "predicted_classes = convert(predict_array_dnn)\n",
    "\n",
    "# ============================================================\n",
    "# Evaluate accuracy by comparing with ground truth labels\n",
    "# ============================================================\n",
    "accuracy = accuracy_score(\n",
    "    predicted_classes[:, 1],     # Predicted class 1 labels\n",
    "    label_array_test[:, 1]       # True class 1 labels\n",
    ")\n",
    "\n",
    "# ============================================================\n",
    "# Print result\n",
    "# ============================================================\n",
    "print(f\"By using the DNN classifier we obtain an accuracy of {accuracy*100:.2f}%\")\n"
   ]
  },
  {
   "cell_type": "code",
   "execution_count": 10,
   "id": "3137b764-d9da-4e09-8f4f-601bace1e837",
   "metadata": {},
   "outputs": [
    {
     "name": "stderr",
     "output_type": "stream",
     "text": [
      "/cvmfs/sft.cern.ch/lcg/views/LCG_107_swan/x86_64-el9-gcc13-opt/lib/python3.11/site-packages/IPython/core/pylabtools.py:134: UserWarning: Glyph 8712 (\\N{ELEMENT OF}) missing from current font.\n",
      "  fig.canvas.print_figure(bytes_io, **kw)\n"
     ]
    },
    {
     "data": {
      "image/png": "[encoded data removed]",
      "text/plain": [
       "<Figure size 432x288 with 1 Axes>"
      ]
     },
     "metadata": {
      "needs_background": "light"
     },
     "output_type": "display_data"
    }
   ],
   "source": [
    "# ========================================\n",
    "# Calculate FPR, TPR and ROC AUC for DNN\n",
    "# ========================================\n",
    "fpr_dnn, tpr_dnn, threshold_dnn = roc_curve(label_array_test[:, 1], predict_array_dnn[:, 1])\n",
    "roc_auc_dnn = auc(fpr_dnn, tpr_dnn)\n",
    "\n",
    "# ========================================\n",
    "# Plot the ROC curve\n",
    "# ========================================\n",
    "plt.figure()\n",
    "plt.plot(tpr_dnn, fpr_dnn, label=f\"DNN: AUC = {roc_auc_dnn*100:.1f}%\", color=\"purple\")\n",
    "\n",
    "# Set plot to semi-log scale (for better visibility of low FPR)\n",
    "plt.semilogy()\n",
    "plt.xlim(0, 1)\n",
    "plt.ylim(0.001, 1)\n",
    "plt.xlabel('True Positive Rate')\n",
    "plt.ylabel('False Positive Rate')\n",
    "plt.title('DNN ROC Curve')\n",
    "plt.grid(True)\n",
    "plt.legend(loc='upper right')\n",
    "\n",
    "# ========================================\n",
    "# Add box showing mass and pT cuts\n",
    "# ========================================\n",
    "cut_text = \"Mass ∈ [40, 200] GeV\\npT ∈ [300, 2000] GeV\"\n",
    "plt.gca().text(0.6, 0.01, cut_text,\n",
    "               fontsize=10,\n",
    "               bbox=dict(facecolor='white', edgecolor='black', boxstyle='round,pad=0.5'))\n",
    "plt.show()\n"
   ]
  },
  {
   "cell_type": "code",
   "execution_count": null,
   "id": "14d39b88-99ae-431e-b762-103e3db0b74a",
   "metadata": {},
   "outputs": [],
   "source": []
  }
 ],
 "metadata": {
  "@webio": {
   "lastCommId": null,
   "lastKernelId": null
  },
  "kernelspec": {
   "display_name": "Python 3",
   "language": "python",
   "name": "python3"
  },
  "language_info": {
   "codemirror_mode": {
    "name": "ipython",
    "version": 3
   },
   "file_extension": ".py",
   "mimetype": "text/x-python",
   "name": "python",
   "nbconvert_exporter": "python",
   "pygments_lexer": "ipython3",
   "version": "3.11.9"
  }
 },
 "nbformat": 4,
 "nbformat_minor": 5
}
